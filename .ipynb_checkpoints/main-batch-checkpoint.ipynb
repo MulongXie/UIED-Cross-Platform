{
 "cells": [
  {
   "cell_type": "code",
   "execution_count": 1,
   "metadata": {},
   "outputs": [],
   "source": [
    "from match_elements.GUI_pair import GUIPair\n",
    "import cv2\n",
    "from os.path import join as pjoin\n",
    "from glob import glob\n",
    "from paddleocr import PaddleOCR"
   ]
  },
  {
   "cell_type": "code",
   "execution_count": 2,
   "metadata": {},
   "outputs": [],
   "source": [
    "files = glob(pjoin('data/output/merge/', 'A*.jpg'))\n",
    "gui_names = [f.split('A')[-1].split('.')[0] for f in files]"
   ]
  },
  {
   "cell_type": "code",
   "execution_count": 3,
   "metadata": {},
   "outputs": [
    {
     "name": "stdout",
     "output_type": "stream",
     "text": [
      "[Similar Elements Matching 0.368s] Method:dhash Paired Text:18, Paired Compos:34\n",
      "Save matched compo pairs to E:\\Mulong\\Result\\matched_compos\n",
      "[Similar Elements Matching 1.283s] Method:ssim Paired Text:2, Paired Compos:0\n",
      "Save matched compo pairs to E:\\Mulong\\Result\\matched_compos\n",
      "[Similar Elements Matching 0.787s] Method:sift Paired Text:1, Paired Compos:0\n",
      "Save matched compo pairs to E:\\Mulong\\Result\\matched_compos\n",
      "[Similar Elements Matching 0.324s] Method:surf Paired Text:2, Paired Compos:0\n",
      "Save matched compo pairs to E:\\Mulong\\Result\\matched_compos\n"
     ]
    }
   ],
   "source": [
    "for name in gui_names:\n",
    "    gui = GUIPair(name)    \n",
    "    \n",
    "    # gui.element_detection(False, False, False)\n",
    "    # gui.show_detection_result()\n",
    "    \n",
    "    gui.load_detection_result()\n",
    "    # gui.show_detection_result()    \n",
    "    \n",
    "    for method in ['dhash', 'ssim', 'sift', 'surf']:\n",
    "        gui.match_similar_elements(img_sim_method=method)\n",
    "        gui.visualize_matched_element_pairs()        \n",
    "        gui.save_matched_element_pairs_clips(output_dir='E:\\Mulong\\Result\\matched_compos')\n"
   ]
  },
  {
   "cell_type": "code",
   "execution_count": null,
   "metadata": {},
   "outputs": [],
   "source": []
  },
  {
   "cell_type": "code",
   "execution_count": 2,
   "metadata": {},
   "outputs": [
    {
     "name": "stdout",
     "output_type": "stream",
     "text": [
      "Namespace(cls_batch_num=30, cls_image_shape='3, 48, 192', cls_model_dir='C:\\\\Users\\\\Shae/.paddleocr/2.0/cls', cls_thresh=0.9, det=True, det_algorithm='DB', det_db_box_thresh=0.5, det_db_thresh=0.3, det_db_unclip_ratio=2.0, det_east_cover_thresh=0.1, det_east_nms_thresh=0.2, det_east_score_thresh=0.8, det_limit_side_len=960, det_limit_type='max', det_model_dir='C:\\\\Users\\\\Shae/.paddleocr/2.0/det', drop_score=0.5, enable_mkldnn=False, gpu_mem=8000, image_dir='', ir_optim=True, label_list=['0', '180'], lang='ch', max_text_length=25, rec=True, rec_algorithm='CRNN', rec_batch_num=30, rec_char_dict_path='./ppocr/utils/ppocr_keys_v1.txt', rec_char_type='ch', rec_image_shape='3, 32, 320', rec_model_dir='C:\\\\Users\\\\Shae/.paddleocr/2.0/rec/ch', use_angle_cls=True, use_gpu=True, use_pdserving=False, use_space_char=True, use_tensorrt=False, use_zero_copy_run=False)\n"
     ]
    }
   ],
   "source": [
    "paddle_cor = PaddleOCR(use_angle_cls=True, lang=\"ch\")"
   ]
  },
  {
   "cell_type": "code",
   "execution_count": 3,
   "metadata": {},
   "outputs": [],
   "source": [
    "name = 0\n",
    "dir_android = 'E:/Mulong/Datasets/gui/visual testing/cameraimg/Android'\n",
    "dir_ios = 'E:/Mulong/Datasets/gui/visual testing/cameraimg/iOS'"
   ]
  },
  {
   "cell_type": "code",
   "execution_count": 4,
   "metadata": {},
   "outputs": [],
   "source": [
    "img_paths_android = sorted(glob(pjoin(dir_android, str(name), '*.JPG')))\n",
    "img_paths_ios = sorted(glob(pjoin(dir_ios, str(name), '*.JPG')))"
   ]
  },
  {
   "cell_type": "code",
   "execution_count": 5,
   "metadata": {},
   "outputs": [
    {
     "name": "stdout",
     "output_type": "stream",
     "text": [
      "001 E:/Mulong/Datasets/gui/visual testing/cameraimg/Android\\0\\A001.JPG E:/Mulong/Datasets/gui/visual testing/cameraimg/iOS\\0\\I001.JPG\n",
      "[2021/12/02 19:56:19] root INFO: dt_boxes num : 39, elapse : 6.629680395126343\n",
      "[2021/12/02 19:56:20] root INFO: cls num  : 39, elapse : 0.6910045146942139\n",
      "[2021/12/02 19:56:21] root INFO: rec_res num  : 39, elapse : 1.2269940376281738\n",
      "[Text Detection Completed in 9.583 s] Input: E:/Mulong/Datasets/gui/visual testing/cameraimg/Android\\0\\A001.JPG Output: E:/Mulong/Result/visual_testing\\ocr\\A001.json\n",
      "[2021/12/02 19:56:42] root INFO: dt_boxes num : 35, elapse : 20.34288191795349\n",
      "[2021/12/02 19:56:44] root INFO: cls num  : 35, elapse : 1.464491605758667\n",
      "[2021/12/02 19:56:46] root INFO: rec_res num  : 35, elapse : 2.236463785171509\n",
      "[Text Detection Completed in 25.147 s] Input: E:/Mulong/Datasets/gui/visual testing/cameraimg/iOS\\0\\I001.JPG Output: E:/Mulong/Result/visual_testing\\ocr\\I001.json\n",
      "[Compo Detection Completed in 1.788 s] Input: E:/Mulong/Datasets/gui/visual testing/cameraimg/Android\\0\\A001.JPG Output: E:/Mulong/Result/visual_testing\\ip\\A001.json\n",
      "[Compo Detection Completed in 1.006 s] Input: E:/Mulong/Datasets/gui/visual testing/cameraimg/iOS\\0\\I001.JPG Output: E:/Mulong/Result/visual_testing\\ip\\I001.json\n",
      "[Merge Completed] Input: E:/Mulong/Datasets/gui/visual testing/cameraimg/Android\\0\\A001.JPG Output: E:/Mulong/Result/visual_testing\\merge\\A001.jpg\n",
      "[Merge Completed] Input: E:/Mulong/Datasets/gui/visual testing/cameraimg/iOS\\0\\I001.JPG Output: E:/Mulong/Result/visual_testing\\merge\\I001.jpg\n",
      "[Similar Elements Matching 0.047s] Method:dhash Paired Text:0, Paired Compos:14\n",
      "Save matched compo pairs to E:\\Mulong\\Result\\matched_compos\n",
      "[Similar Elements Matching 0.833s] Method:ssim Paired Text:0, Paired Compos:14\n",
      "Save matched compo pairs to E:\\Mulong\\Result\\matched_compos\n",
      "[Similar Elements Matching 0.554s] Method:sift Paired Text:1, Paired Compos:14\n",
      "Save matched compo pairs to E:\\Mulong\\Result\\matched_compos\n",
      "[Similar Elements Matching 0.195s] Method:surf Paired Text:2, Paired Compos:14\n",
      "Save matched compo pairs to E:\\Mulong\\Result\\matched_compos\n"
     ]
    }
   ],
   "source": [
    "for i, p_an in enumerate(img_paths_android):\n",
    "    p_ios = img_paths_ios[i]\n",
    "    name = p_an.replace('\\\\', '/').split('/')[-1].split('.')[0][1:]\n",
    "    print(name, p_an, p_ios)\n",
    "    \n",
    "    gui = GUIPair(name, output_dir='E:/Mulong/Result/visual_testing', img_path_android=p_an, img_path_ios=p_ios)\n",
    "    \n",
    "    gui.element_detection(True, True, True, paddle_cor=paddle_cor)\n",
    "    gui.show_detection_result()\n",
    "    \n",
    "    for method in ['dhash', 'ssim', 'sift', 'surf']:\n",
    "        gui.match_similar_elements(img_sim_method=method)\n",
    "        gui.visualize_matched_element_pairs()        \n",
    "        gui.save_matched_element_pairs_clips(output_dir='E:\\Mulong\\Result\\matched_compos')\n",
    "    break"
   ]
  },
  {
   "cell_type": "code",
   "execution_count": null,
   "metadata": {},
   "outputs": [],
   "source": []
  }
 ],
 "metadata": {
  "kernelspec": {
   "display_name": "Python 3",
   "language": "python",
   "name": "python3"
  },
  "language_info": {
   "codemirror_mode": {
    "name": "ipython",
    "version": 3
   },
   "file_extension": ".py",
   "mimetype": "text/x-python",
   "name": "python",
   "nbconvert_exporter": "python",
   "pygments_lexer": "ipython3",
   "version": "3.5.6"
  }
 },
 "nbformat": 4,
 "nbformat_minor": 2
}

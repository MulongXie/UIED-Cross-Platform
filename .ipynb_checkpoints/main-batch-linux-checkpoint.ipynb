{
 "cells": [
  {
   "cell_type": "code",
   "execution_count": 2,
   "metadata": {},
   "outputs": [],
   "source": [
    "from match_elements.GUI_pair import GUIPair\n",
    "import cv2\n",
    "from os.path import join as pjoin\n",
    "from glob import glob\n",
    "from paddleocr import PaddleOCR\n",
    "import time"
   ]
  },
  {
   "cell_type": "code",
   "execution_count": null,
   "metadata": {},
   "outputs": [
    {
     "name": "stdout",
     "output_type": "stream",
     "text": [
      "[2021/12/03 19:34:38] root WARNING: version PP-OCRv2 not support cls models, auto switch to version PP-OCR\n"
     ]
    }
   ],
   "source": [
    "from paddleocr import PaddleOCR\n",
    "paddle_cor = PaddleOCR(use_angle_cls=True, lang=\"ch\")"
   ]
  },
  {
   "cell_type": "code",
   "execution_count": 1,
   "metadata": {},
   "outputs": [],
   "source": [
    "name = 0\n",
    "dir_android = '/home/ml/Data/visual testing/cameraimg/Android'\n",
    "dir_ios = '/home/ml/Data/visual testing/cameraimg/iOS'"
   ]
  },
  {
   "cell_type": "code",
   "execution_count": 4,
   "metadata": {},
   "outputs": [],
   "source": [
    "img_paths_android = sorted(glob(pjoin(dir_android, str(name), '*.JPG')))\n",
    "img_paths_ios = sorted(glob(pjoin(dir_ios, str(name), '*.JPG')))"
   ]
  },
  {
   "cell_type": "code",
   "execution_count": 5,
   "metadata": {},
   "outputs": [
    {
     "name": "stdout",
     "output_type": "stream",
     "text": [
      "101 /home/ml/Data/visual testing/cameraimg/Android/1/A101.JPG /home/ml/Data/visual testing/cameraimg/iOS/1/I101.JPG\n",
      "[2021/12/03 18:51:41] root DEBUG: dt_boxes num : 51, elapse : 0.1683943271636963\n",
      "[2021/12/03 18:51:41] root DEBUG: cls num  : 51, elapse : 0.17940163612365723\n",
      "[2021/12/03 18:51:42] root DEBUG: rec_res num  : 51, elapse : 0.4367094039916992\n",
      "[Text Detection Completed in 9.048 s] Input: /home/ml/Data/visual testing/cameraimg/Android/1/A101.JPG Output: /home/ml/Data/result/visual_testing/ui/101/ocr/A101.json\n",
      "[2021/12/03 18:51:42] root DEBUG: dt_boxes num : 40, elapse : 0.13947033882141113\n",
      "[2021/12/03 18:51:42] root DEBUG: cls num  : 40, elapse : 0.14174103736877441\n",
      "[2021/12/03 18:51:43] root DEBUG: rec_res num  : 40, elapse : 0.3674893379211426\n",
      "[Text Detection Completed in 8.182 s] Input: /home/ml/Data/visual testing/cameraimg/iOS/1/I101.JPG Output: /home/ml/Data/result/visual_testing/ui/101/ocr/I101.json\n",
      "[Compo Detection Completed in 0.350 s] Input: /home/ml/Data/visual testing/cameraimg/Android/1/A101.JPG Output: /home/ml/Data/result/visual_testing/ui/101/ip/A101.json\n",
      "[Compo Detection Completed in 0.370 s] Input: /home/ml/Data/visual testing/cameraimg/iOS/1/I101.JPG Output: /home/ml/Data/result/visual_testing/ui/101/ip/I101.json\n",
      "[Merge Completed] Input: /home/ml/Data/visual testing/cameraimg/Android/1/A101.JPG Output: /home/ml/Data/result/visual_testing/ui/101/merge/A101.jpg\n",
      "[Merge Completed] Input: /home/ml/Data/visual testing/cameraimg/iOS/1/I101.JPG Output: /home/ml/Data/result/visual_testing/ui/101/merge/I101.jpg\n",
      "[Similar Elements Matching 0.015s] Method:dhash Paired Text:24, Paired Compos:7\n",
      "Start ID [19, 71, 76, 34, 100, 67, 94, 67, 78, 85, 82, 9, 98, 65, 24, 51, 4, 87, 51, 38, 105, 60, 41, 24, 25, 103, 64, 11, 27, 16, 47, 26, 89, 56, 91, 59, 38, 66, 93, 39, 82, 29, 46, 18, 25, 88, 37, 49, 68, 45, 66, 41, 18, 32, 92, 5, 68, 16, 69, 81, 73, 43, 33, 22, 59, 26, 48, 53, 52, 88, 32, 90, 95, 70, 58, 77, 10, 70, 54, 57, 102, 37, 79, 3, 95, 99, 81, 71, 83, 86, 42, 105, 6, 39, 21, 21, 42, 62, 61, 85, 45, 78, 104, 31, 15, 31, 13, 103, 30, 12, 63, 23, 44, 1, 11, 61, 106, 57, 22, 55, 14, 73, 77, 4, 96, 7, 63, 46, 20, 65, 101, 98, 34, 36, 17, 104, 36, 62, 80, 40, 20, 100, 19, 28, 28, 9, 80, 15, 76, 72, 10, 44, 69, 17, 8, 33, 56, 58, 30, 55, 12, 54, 74, 64, 0, 2, 8, 84, 7, 101, 94, 97, 91, 0, 74, 6, 27, 93, 47, 75, 50, 92, 87, 23, 60, 97, 83, 75, 96, 52, 49, 102, 13, 90, 86, 29, 1, 50, 5, 43, 89, 53, 35, 72, 106, 35, 2, 3, 99, 48, 79, 84, 14, 40] 107\n",
      "Compo id 114\n",
      "[Similar Elements Matching 2.169s] Method:ssim Paired Text:24, Paired Compos:4\n",
      "Start ID [19, 71, 111, 76, 34, 100, 111, 67, 94, 67, 78, 85, 82, 109, 9, 98, 65, 24, 51, 4, 87, 51, 38, 105, 60, 41, 24, 25, 103, 64, 11, 27, 16, 47, 26, 89, 56, 91, 59, 38, 66, 93, 39, 82, 29, 46, 18, 25, 88, 37, 49, 68, 45, 66, 41, 18, 32, 92, 5, 68, 16, 69, 81, 73, 43, 33, 22, 59, 26, 48, 53, 52, 88, 32, 90, 95, 70, 58, 77, 10, 70, 112, 112, 54, 57, 102, 37, 79, 109, 3, 95, 99, 81, 71, 110, 83, 86, 42, 113, 105, 6, 39, 21, 21, 42, 62, 61, 85, 45, 78, 104, 31, 15, 31, 13, 103, 30, 12, 63, 23, 44, 1, 11, 61, 106, 57, 22, 55, 14, 73, 77, 107, 4, 96, 7, 108, 63, 46, 20, 65, 101, 98, 34, 36, 17, 104, 36, 62, 80, 40, 20, 100, 110, 19, 28, 28, 9, 80, 15, 76, 72, 10, 44, 69, 17, 8, 107, 33, 56, 58, 30, 55, 12, 54, 74, 64, 0, 113, 2, 8, 84, 7, 101, 94, 97, 91, 0, 74, 6, 27, 93, 47, 75, 50, 92, 87, 23, 60, 97, 83, 75, 96, 52, 49, 102, 13, 90, 86, 29, 1, 50, 5, 43, 89, 53, 35, 72, 106, 108, 35, 2, 3, 99, 48, 79, 84, 14, 40] 114\n",
      "Compo id 118\n",
      "[Similar Elements Matching 5.444s] Method:sift Paired Text:24, Paired Compos:1\n",
      "Start ID [19, 71, 111, 76, 34, 100, 111, 67, 115, 94, 67, 78, 85, 82, 109, 9, 98, 65, 24, 51, 4, 87, 51, 38, 105, 60, 41, 24, 116, 25, 103, 64, 114, 11, 27, 16, 47, 26, 89, 56, 91, 59, 38, 66, 93, 39, 82, 29, 46, 18, 117, 25, 88, 37, 49, 68, 45, 66, 41, 18, 32, 92, 5, 68, 16, 69, 81, 73, 43, 33, 22, 116, 59, 26, 48, 53, 52, 88, 32, 90, 95, 70, 58, 77, 10, 70, 112, 112, 54, 57, 102, 37, 79, 109, 3, 95, 99, 81, 71, 110, 83, 86, 42, 113, 105, 6, 39, 21, 21, 42, 62, 117, 61, 85, 45, 78, 104, 31, 15, 31, 13, 103, 30, 12, 63, 23, 44, 1, 11, 61, 106, 57, 22, 55, 14, 73, 77, 107, 4, 115, 96, 7, 108, 63, 46, 20, 65, 101, 98, 34, 36, 17, 104, 36, 62, 80, 40, 20, 114, 100, 110, 19, 28, 28, 9, 80, 15, 76, 72, 10, 44, 69, 17, 8, 107, 33, 56, 58, 30, 55, 12, 54, 74, 64, 0, 113, 2, 8, 84, 7, 101, 94, 97, 91, 0, 74, 6, 27, 93, 47, 75, 50, 92, 87, 23, 60, 97, 83, 75, 96, 52, 49, 102, 13, 90, 86, 29, 1, 50, 5, 43, 89, 53, 35, 72, 106, 108, 35, 2, 3, 99, 48, 79, 84, 14, 40] 118\n",
      "Compo id 119\n"
     ]
    },
    {
     "ename": "KeyboardInterrupt",
     "evalue": "",
     "output_type": "error",
     "traceback": [
      "\u001b[0;31m---------------------------------------------------------------------------\u001b[0m",
      "\u001b[0;31mKeyboardInterrupt\u001b[0m                         Traceback (most recent call last)",
      "\u001b[0;32m<ipython-input-5-5e63e6737e8f>\u001b[0m in \u001b[0;36m<module>\u001b[0;34m\u001b[0m\n\u001b[1;32m     10\u001b[0m \u001b[0;34m\u001b[0m\u001b[0m\n\u001b[1;32m     11\u001b[0m     \u001b[0;32mfor\u001b[0m \u001b[0mmethod\u001b[0m \u001b[0;32min\u001b[0m \u001b[0;34m[\u001b[0m\u001b[0;34m'dhash'\u001b[0m\u001b[0;34m,\u001b[0m \u001b[0;34m'ssim'\u001b[0m\u001b[0;34m,\u001b[0m \u001b[0;34m'sift'\u001b[0m\u001b[0;34m,\u001b[0m \u001b[0;34m'surf'\u001b[0m\u001b[0;34m]\u001b[0m\u001b[0;34m:\u001b[0m\u001b[0;34m\u001b[0m\u001b[0;34m\u001b[0m\u001b[0m\n\u001b[0;32m---> 12\u001b[0;31m         \u001b[0mgui\u001b[0m\u001b[0;34m.\u001b[0m\u001b[0mmatch_similar_elements\u001b[0m\u001b[0;34m(\u001b[0m\u001b[0mimg_sim_method\u001b[0m\u001b[0;34m=\u001b[0m\u001b[0mmethod\u001b[0m\u001b[0;34m)\u001b[0m\u001b[0;34m\u001b[0m\u001b[0;34m\u001b[0m\u001b[0m\n\u001b[0m\u001b[1;32m     13\u001b[0m \u001b[0;31m#         gui.visualize_matched_element_pairs()\u001b[0m\u001b[0;34m\u001b[0m\u001b[0;34m\u001b[0m\u001b[0;34m\u001b[0m\u001b[0m\n\u001b[1;32m     14\u001b[0m         \u001b[0mmatched_pair_id\u001b[0m \u001b[0;34m=\u001b[0m \u001b[0mgui\u001b[0m\u001b[0;34m.\u001b[0m\u001b[0msave_matched_element_pairs_clips\u001b[0m\u001b[0;34m(\u001b[0m\u001b[0moutput_dir\u001b[0m\u001b[0;34m=\u001b[0m\u001b[0;34m'/home/ml/Data/result/visual_testing/matched_compos'\u001b[0m\u001b[0;34m)\u001b[0m\u001b[0;34m\u001b[0m\u001b[0;34m\u001b[0m\u001b[0m\n",
      "\u001b[0;32m~/Code/UIED-Cross-Platform/match_elements/GUI_pair.py\u001b[0m in \u001b[0;36mmatch_similar_elements\u001b[0;34m(self, min_similarity_img, min_similarity_text, img_sim_method, del_prev)\u001b[0m\n\u001b[1;32m    213\u001b[0m                 \u001b[0;32mif\u001b[0m \u001b[0mele_a\u001b[0m\u001b[0;34m.\u001b[0m\u001b[0mcategory\u001b[0m \u001b[0;34m==\u001b[0m \u001b[0;34m'Compo'\u001b[0m\u001b[0;34m:\u001b[0m\u001b[0;34m\u001b[0m\u001b[0;34m\u001b[0m\u001b[0m\n\u001b[1;32m    214\u001b[0m                     \u001b[0;31m# match non-text clip through image similarity\u001b[0m\u001b[0;34m\u001b[0m\u001b[0;34m\u001b[0m\u001b[0;34m\u001b[0m\u001b[0m\n\u001b[0;32m--> 215\u001b[0;31m                     \u001b[0mcompo_similarity\u001b[0m \u001b[0;34m=\u001b[0m \u001b[0mmatch\u001b[0m\u001b[0;34m.\u001b[0m\u001b[0mimage_similarity\u001b[0m\u001b[0;34m(\u001b[0m\u001b[0mele_a\u001b[0m\u001b[0;34m.\u001b[0m\u001b[0mclip\u001b[0m\u001b[0;34m,\u001b[0m \u001b[0mele_b\u001b[0m\u001b[0;34m.\u001b[0m\u001b[0mclip\u001b[0m\u001b[0;34m,\u001b[0m \u001b[0mmethod\u001b[0m\u001b[0;34m=\u001b[0m\u001b[0mimg_sim_method\u001b[0m\u001b[0;34m,\u001b[0m \u001b[0mresnet_model\u001b[0m\u001b[0;34m=\u001b[0m\u001b[0mresnet_model\u001b[0m\u001b[0;34m)\u001b[0m\u001b[0;34m\u001b[0m\u001b[0;34m\u001b[0m\u001b[0m\n\u001b[0m\u001b[1;32m    216\u001b[0m                     \u001b[0;32mif\u001b[0m \u001b[0mcompo_similarity\u001b[0m \u001b[0;34m>\u001b[0m \u001b[0mmin_similarity_img\u001b[0m\u001b[0;34m:\u001b[0m\u001b[0;34m\u001b[0m\u001b[0;34m\u001b[0m\u001b[0m\n\u001b[1;32m    217\u001b[0m                         \u001b[0mn_compos\u001b[0m \u001b[0;34m+=\u001b[0m \u001b[0;36m1\u001b[0m\u001b[0;34m\u001b[0m\u001b[0;34m\u001b[0m\u001b[0m\n",
      "\u001b[0;32m~/Code/UIED-Cross-Platform/match_elements/matching.py\u001b[0m in \u001b[0;36mimage_similarity\u001b[0;34m(img1, img2, method, is_gray, draw_match, match_distance_ratio, resnet_model)\u001b[0m\n\u001b[1;32m     94\u001b[0m         \u001b[0msimilarity\u001b[0m \u001b[0;34m=\u001b[0m \u001b[0mcompare_sift_or_surf\u001b[0m\u001b[0;34m(\u001b[0m\u001b[0mimg1\u001b[0m\u001b[0;34m,\u001b[0m \u001b[0mimg2\u001b[0m\u001b[0;34m,\u001b[0m \u001b[0;34m'sift'\u001b[0m\u001b[0;34m,\u001b[0m \u001b[0mmatch_distance_ratio\u001b[0m\u001b[0;34m,\u001b[0m \u001b[0mdraw_match\u001b[0m\u001b[0;34m=\u001b[0m\u001b[0mdraw_match\u001b[0m\u001b[0;34m)\u001b[0m\u001b[0;34m\u001b[0m\u001b[0;34m\u001b[0m\u001b[0m\n\u001b[1;32m     95\u001b[0m     \u001b[0;32melif\u001b[0m \u001b[0mmethod\u001b[0m \u001b[0;34m==\u001b[0m \u001b[0;34m'surf'\u001b[0m\u001b[0;34m:\u001b[0m\u001b[0;34m\u001b[0m\u001b[0;34m\u001b[0m\u001b[0m\n\u001b[0;32m---> 96\u001b[0;31m         \u001b[0msimilarity\u001b[0m \u001b[0;34m=\u001b[0m \u001b[0mcompare_sift_or_surf\u001b[0m\u001b[0;34m(\u001b[0m\u001b[0mimg1\u001b[0m\u001b[0;34m,\u001b[0m \u001b[0mimg2\u001b[0m\u001b[0;34m,\u001b[0m \u001b[0;34m'surf'\u001b[0m\u001b[0;34m,\u001b[0m \u001b[0mmatch_distance_ratio\u001b[0m\u001b[0;34m,\u001b[0m \u001b[0mdraw_match\u001b[0m\u001b[0;34m=\u001b[0m\u001b[0mdraw_match\u001b[0m\u001b[0;34m)\u001b[0m\u001b[0;34m\u001b[0m\u001b[0;34m\u001b[0m\u001b[0m\n\u001b[0m\u001b[1;32m     97\u001b[0m     \u001b[0;32melif\u001b[0m \u001b[0mmethod\u001b[0m \u001b[0;34m==\u001b[0m \u001b[0;34m'resnet'\u001b[0m\u001b[0;34m:\u001b[0m\u001b[0;34m\u001b[0m\u001b[0;34m\u001b[0m\u001b[0m\n\u001b[1;32m     98\u001b[0m         \u001b[0mshape\u001b[0m \u001b[0;34m=\u001b[0m \u001b[0;34m(\u001b[0m\u001b[0;36m32\u001b[0m\u001b[0;34m,\u001b[0m \u001b[0;36m32\u001b[0m\u001b[0;34m)\u001b[0m\u001b[0;34m\u001b[0m\u001b[0;34m\u001b[0m\u001b[0m\n",
      "\u001b[0;32m~/Code/UIED-Cross-Platform/match_elements/matching.py\u001b[0m in \u001b[0;36mcompare_sift_or_surf\u001b[0;34m(img1, img2, method, ratio, draw_match)\u001b[0m\n\u001b[1;32m     42\u001b[0m         \u001b[0msurf\u001b[0m \u001b[0;34m=\u001b[0m \u001b[0mcv2\u001b[0m\u001b[0;34m.\u001b[0m\u001b[0mxfeatures2d\u001b[0m\u001b[0;34m.\u001b[0m\u001b[0mSURF_create\u001b[0m\u001b[0;34m(\u001b[0m\u001b[0;34m)\u001b[0m\u001b[0;34m\u001b[0m\u001b[0;34m\u001b[0m\u001b[0m\n\u001b[1;32m     43\u001b[0m         \u001b[0;31m# find the keypoints and descriptors with SURF\u001b[0m\u001b[0;34m\u001b[0m\u001b[0;34m\u001b[0m\u001b[0;34m\u001b[0m\u001b[0m\n\u001b[0;32m---> 44\u001b[0;31m         \u001b[0mkp1\u001b[0m\u001b[0;34m,\u001b[0m \u001b[0mdes1\u001b[0m \u001b[0;34m=\u001b[0m \u001b[0msurf\u001b[0m\u001b[0;34m.\u001b[0m\u001b[0mdetectAndCompute\u001b[0m\u001b[0;34m(\u001b[0m\u001b[0mimg1\u001b[0m\u001b[0;34m,\u001b[0m \u001b[0;32mNone\u001b[0m\u001b[0;34m)\u001b[0m\u001b[0;34m\u001b[0m\u001b[0;34m\u001b[0m\u001b[0m\n\u001b[0m\u001b[1;32m     45\u001b[0m         \u001b[0mkp2\u001b[0m\u001b[0;34m,\u001b[0m \u001b[0mdes2\u001b[0m \u001b[0;34m=\u001b[0m \u001b[0msurf\u001b[0m\u001b[0;34m.\u001b[0m\u001b[0mdetectAndCompute\u001b[0m\u001b[0;34m(\u001b[0m\u001b[0mimg2\u001b[0m\u001b[0;34m,\u001b[0m \u001b[0;32mNone\u001b[0m\u001b[0;34m)\u001b[0m\u001b[0;34m\u001b[0m\u001b[0;34m\u001b[0m\u001b[0m\n\u001b[1;32m     46\u001b[0m     \u001b[0;32melse\u001b[0m\u001b[0;34m:\u001b[0m\u001b[0;34m\u001b[0m\u001b[0;34m\u001b[0m\u001b[0m\n",
      "\u001b[0;31mKeyboardInterrupt\u001b[0m: "
     ]
    }
   ],
   "source": [
    "for i, p_an in enumerate(img_paths_android):\n",
    "    p_ios = img_paths_ios[i]\n",
    "    gui_name = p_an.replace('\\\\', '/').split('/')[-1].split('.')[0][1:]\n",
    "    print(gui_name, p_an, p_ios)\n",
    "    \n",
    "    gui = GUIPair(gui_name, output_dir='/home/ml/Data/result/visual_testing/ui/' + str(name), img_path_android=p_an, img_path_ios=p_ios)\n",
    "    \n",
    "    gui.element_detection(True, True, True, paddle_cor=paddle_cor)\n",
    "#     gui.show_detection_result()\n",
    "    \n",
    "    for method in ['dhash', 'ssim', 'sift', 'surf']:\n",
    "        gui.match_similar_elements(img_sim_method=method)\n",
    "#         gui.visualize_matched_element_pairs()        \n",
    "        matched_pair_id = gui.save_matched_element_pairs_clips(output_dir='/home/ml/Data/result/visual_testing/matched_compos')\n",
    "        print('Compo id', matched_pair_id)\n",
    "    print('**********', time.ctime(), '*********\\n')"
   ]
  },
  {
   "cell_type": "code",
   "execution_count": null,
   "metadata": {},
   "outputs": [],
   "source": []
  },
  {
   "cell_type": "code",
   "execution_count": null,
   "metadata": {},
   "outputs": [],
   "source": []
  }
 ],
 "metadata": {
  "kernelspec": {
   "display_name": "Python 3",
   "language": "python",
   "name": "python3"
  },
  "language_info": {
   "codemirror_mode": {
    "name": "ipython",
    "version": 3
   },
   "file_extension": ".py",
   "mimetype": "text/x-python",
   "name": "python",
   "nbconvert_exporter": "python",
   "pygments_lexer": "ipython3",
   "version": "3.6.9"
  }
 },
 "nbformat": 4,
 "nbformat_minor": 2
}

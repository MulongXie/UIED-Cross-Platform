{
 "cells": [
  {
   "cell_type": "code",
   "execution_count": 1,
   "metadata": {},
   "outputs": [],
   "source": [
    "from match_elements.GUI_pair import GUIPair\n",
    "import cv2\n",
    "from os.path import join as pjoin\n",
    "from glob import glob\n",
    "from paddleocr import PaddleOCR\n",
    "import time"
   ]
  },
  {
   "cell_type": "code",
   "execution_count": 2,
   "metadata": {},
   "outputs": [
    {
     "name": "stdout",
     "output_type": "stream",
     "text": [
      "[2021/12/04 17:26:01] root WARNING: version PP-OCRv2 not support cls models, auto switch to version PP-OCR\n",
      "Namespace(benchmark=False, cls_batch_num=6, cls_image_shape='3, 48, 192', cls_model_dir='/home/ml/.paddleocr/2.3.0.2/ocr/cls/ch_ppocr_mobile_v2.0_cls_infer', cls_thresh=0.9, cpu_threads=10, det=True, det_algorithm='DB', det_db_box_thresh=0.6, det_db_score_mode='fast', det_db_thresh=0.3, det_db_unclip_ratio=1.5, det_east_cover_thresh=0.1, det_east_nms_thresh=0.2, det_east_score_thresh=0.8, det_limit_side_len=960, det_limit_type='max', det_model_dir='/home/ml/.paddleocr/2.3.0.2/ocr/det/ch/ch_PP-OCRv2_det_infer', det_pse_box_thresh=0.85, det_pse_box_type='box', det_pse_min_area=16, det_pse_scale=1, det_pse_thresh=0, det_sast_nms_thresh=0.2, det_sast_polygon=False, det_sast_score_thresh=0.5, drop_score=0.5, e2e_algorithm='PGNet', e2e_char_dict_path='./ppocr/utils/ic15_dict.txt', e2e_limit_side_len=768, e2e_limit_type='max', e2e_model_dir=None, e2e_pgnet_mode='fast', e2e_pgnet_polygon=True, e2e_pgnet_score_thresh=0.5, e2e_pgnet_valid_set='totaltext', enable_mkldnn=False, gpu_mem=500, help='==SUPPRESS==', image_dir=None, ir_optim=True, label_list=['0', '180'], lang='ch', layout_path_model='lp://PubLayNet/ppyolov2_r50vd_dcn_365e_publaynet/config', max_batch_size=10, max_text_length=25, min_subgraph_size=15, ocr_version='PP-OCRv2', output='./output/table', precision='fp32', process_id=0, rec=True, rec_algorithm='CRNN', rec_batch_num=6, rec_char_dict_path='/home/ml/.local/lib/python3.6/site-packages/paddleocr/ppocr/utils/ppocr_keys_v1.txt', rec_image_shape='3, 32, 320', rec_model_dir='/home/ml/.paddleocr/2.3.0.2/ocr/rec/ch/ch_PP-OCRv2_rec_infer', save_log_path='./log_output/', show_log=True, structure_version='STRUCTURE', table_char_dict_path=None, table_char_type='en', table_max_len=488, table_model_dir=None, total_process_num=1, type='ocr', use_angle_cls=True, use_dilation=False, use_gpu=False, use_mp=False, use_onnx=False, use_pdserving=False, use_space_char=True, use_tensorrt=False, vis_font_path='./doc/fonts/simfang.ttf', warmup=True)\n"
     ]
    }
   ],
   "source": [
    "from paddleocr import PaddleOCR\n",
    "paddle_cor = PaddleOCR(use_angle_cls=True, lang=\"ch\")"
   ]
  },
  {
   "cell_type": "code",
   "execution_count": 3,
   "metadata": {},
   "outputs": [
    {
     "name": "stderr",
     "output_type": "stream",
     "text": [
      "Using TensorFlow backend.\n"
     ]
    }
   ],
   "source": [
    "from keras.applications.resnet50 import ResNet50\n",
    "resnet_model = ResNet50(include_top=False, input_shape=(32, 32, 3))"
   ]
  },
  {
   "cell_type": "code",
   "execution_count": 10,
   "metadata": {},
   "outputs": [],
   "source": [
    "name = 0\n",
    "dir_android = '/home/ml/Data/visual testing/cameraimg/Android'\n",
    "dir_ios = '/home/ml/Data/visual testing/cameraimg/iOS'"
   ]
  },
  {
   "cell_type": "code",
   "execution_count": 11,
   "metadata": {},
   "outputs": [],
   "source": [
    "img_paths_android = sorted(glob(pjoin(dir_android, str(name), '*.JPG')))\n",
    "img_paths_ios = sorted(glob(pjoin(dir_ios, str(name), '*.JPG')))"
   ]
  },
  {
   "cell_type": "code",
   "execution_count": 12,
   "metadata": {},
   "outputs": [
    {
     "name": "stdout",
     "output_type": "stream",
     "text": [
      "001 /home/ml/Data/visual testing/cameraimg/Android/0/A001.JPG /home/ml/Data/visual testing/cameraimg/iOS/0/I001.JPG\n",
      "[Similar Elements Matching 4.033s] Method:resnet Paired Text:11, Paired Compos:0\n",
      "********** Sat Dec  4 17:31:42 2021 *********\n",
      "\n",
      "002 /home/ml/Data/visual testing/cameraimg/Android/0/A002.JPG /home/ml/Data/visual testing/cameraimg/iOS/0/I002.JPG\n",
      "[Similar Elements Matching 2.192s] Method:resnet Paired Text:4, Paired Compos:4\n",
      "********** Sat Dec  4 17:31:45 2021 *********\n",
      "\n",
      "003 /home/ml/Data/visual testing/cameraimg/Android/0/A003.JPG /home/ml/Data/visual testing/cameraimg/iOS/0/I003.JPG\n",
      "[Similar Elements Matching 5.521s] Method:resnet Paired Text:16, Paired Compos:7\n",
      "********** Sat Dec  4 17:31:50 2021 *********\n",
      "\n",
      "004 /home/ml/Data/visual testing/cameraimg/Android/0/A004.JPG /home/ml/Data/visual testing/cameraimg/iOS/0/I004.JPG\n",
      "[Similar Elements Matching 2.634s] Method:resnet Paired Text:3, Paired Compos:2\n",
      "********** Sat Dec  4 17:31:53 2021 *********\n",
      "\n",
      "005 /home/ml/Data/visual testing/cameraimg/Android/0/A005.JPG /home/ml/Data/visual testing/cameraimg/iOS/0/I005.JPG\n",
      "[Similar Elements Matching 3.920s] Method:resnet Paired Text:15, Paired Compos:13\n",
      "********** Sat Dec  4 17:31:57 2021 *********\n",
      "\n",
      "006 /home/ml/Data/visual testing/cameraimg/Android/0/A006.JPG /home/ml/Data/visual testing/cameraimg/iOS/0/I006.JPG\n",
      "[Similar Elements Matching 2.134s] Method:resnet Paired Text:4, Paired Compos:5\n",
      "********** Sat Dec  4 17:31:59 2021 *********\n",
      "\n",
      "007 /home/ml/Data/visual testing/cameraimg/Android/0/A007.JPG /home/ml/Data/visual testing/cameraimg/iOS/0/I007.JPG\n",
      "[Similar Elements Matching 5.383s] Method:resnet Paired Text:14, Paired Compos:8\n",
      "********** Sat Dec  4 17:32:04 2021 *********\n",
      "\n",
      "008 /home/ml/Data/visual testing/cameraimg/Android/0/A008.JPG /home/ml/Data/visual testing/cameraimg/iOS/0/I008.JPG\n",
      "[Similar Elements Matching 1.695s] Method:resnet Paired Text:2, Paired Compos:3\n",
      "********** Sat Dec  4 17:32:06 2021 *********\n",
      "\n",
      "009 /home/ml/Data/visual testing/cameraimg/Android/0/A009.JPG /home/ml/Data/visual testing/cameraimg/iOS/0/I009.JPG\n",
      "[Similar Elements Matching 5.966s] Method:resnet Paired Text:15, Paired Compos:11\n",
      "********** Sat Dec  4 17:32:12 2021 *********\n",
      "\n",
      "010 /home/ml/Data/visual testing/cameraimg/Android/0/A010.JPG /home/ml/Data/visual testing/cameraimg/iOS/0/I010.JPG\n",
      "[Similar Elements Matching 3.821s] Method:resnet Paired Text:17, Paired Compos:8\n",
      "********** Sat Dec  4 17:32:16 2021 *********\n",
      "\n",
      "011 /home/ml/Data/visual testing/cameraimg/Android/0/A011.JPG /home/ml/Data/visual testing/cameraimg/iOS/0/I011.JPG\n",
      "[Similar Elements Matching 6.509s] Method:resnet Paired Text:13, Paired Compos:10\n",
      "********** Sat Dec  4 17:32:22 2021 *********\n",
      "\n",
      "012 /home/ml/Data/visual testing/cameraimg/Android/0/A012.JPG /home/ml/Data/visual testing/cameraimg/iOS/0/I012.JPG\n",
      "[Similar Elements Matching 5.170s] Method:resnet Paired Text:9, Paired Compos:0\n",
      "********** Sat Dec  4 17:32:27 2021 *********\n",
      "\n",
      "013 /home/ml/Data/visual testing/cameraimg/Android/0/A013.JPG /home/ml/Data/visual testing/cameraimg/iOS/0/I013.JPG\n",
      "[Similar Elements Matching 3.824s] Method:resnet Paired Text:3, Paired Compos:3\n",
      "********** Sat Dec  4 17:32:31 2021 *********\n",
      "\n",
      "014 /home/ml/Data/visual testing/cameraimg/Android/0/A014.JPG /home/ml/Data/visual testing/cameraimg/iOS/0/I014.JPG\n",
      "[Similar Elements Matching 4.330s] Method:resnet Paired Text:11, Paired Compos:9\n",
      "********** Sat Dec  4 17:32:35 2021 *********\n",
      "\n",
      "015 /home/ml/Data/visual testing/cameraimg/Android/0/A015.JPG /home/ml/Data/visual testing/cameraimg/iOS/0/I015.JPG\n",
      "[Similar Elements Matching 1.881s] Method:resnet Paired Text:3, Paired Compos:6\n",
      "********** Sat Dec  4 17:32:37 2021 *********\n",
      "\n",
      "016 /home/ml/Data/visual testing/cameraimg/Android/0/A016.JPG /home/ml/Data/visual testing/cameraimg/iOS/0/I016.JPG\n",
      "[Similar Elements Matching 3.394s] Method:resnet Paired Text:13, Paired Compos:13\n",
      "********** Sat Dec  4 17:32:40 2021 *********\n",
      "\n",
      "017 /home/ml/Data/visual testing/cameraimg/Android/0/A017.JPG /home/ml/Data/visual testing/cameraimg/iOS/0/I017.JPG\n",
      "[Similar Elements Matching 4.615s] Method:resnet Paired Text:11, Paired Compos:13\n",
      "********** Sat Dec  4 17:32:45 2021 *********\n",
      "\n",
      "018 /home/ml/Data/visual testing/cameraimg/Android/0/A018.JPG /home/ml/Data/visual testing/cameraimg/iOS/0/I018.JPG\n",
      "[Similar Elements Matching 3.590s] Method:resnet Paired Text:11, Paired Compos:13\n",
      "********** Sat Dec  4 17:32:49 2021 *********\n",
      "\n",
      "019 /home/ml/Data/visual testing/cameraimg/Android/0/A019.JPG /home/ml/Data/visual testing/cameraimg/iOS/0/I019.JPG\n",
      "[Similar Elements Matching 2.644s] Method:resnet Paired Text:4, Paired Compos:5\n",
      "********** Sat Dec  4 17:32:51 2021 *********\n",
      "\n",
      "020 /home/ml/Data/visual testing/cameraimg/Android/0/A020.JPG /home/ml/Data/visual testing/cameraimg/iOS/0/I020.JPG\n",
      "[Similar Elements Matching 3.940s] Method:resnet Paired Text:11, Paired Compos:6\n",
      "********** Sat Dec  4 17:32:55 2021 *********\n",
      "\n"
     ]
    }
   ],
   "source": [
    "for i, p_an in enumerate(img_paths_android):\n",
    "    p_ios = img_paths_ios[i]\n",
    "    gui_name = p_an.replace('\\\\', '/').split('/')[-1].split('.')[0][1:]\n",
    "    print(gui_name, p_an, p_ios)\n",
    "    \n",
    "    gui = GUIPair(gui_name, output_dir='/home/ml/Data/result/visual_testing/ui/' + str(name), img_path_android=p_an, img_path_ios=p_ios)\n",
    "    \n",
    "#     gui.element_detection(True, True, True, paddle_cor=paddle_cor)\n",
    "#     gui.show_detection_result()\n",
    "    gui.load_detection_result()\n",
    "#     gui.show_detection_result()\n",
    "    \n",
    "    gui.match_similar_elements(img_sim_method='resnet', min_similarity_img=0.85)\n",
    "    gui.save_matched_element_pairs_clips(output_dir='/home/ml/Data/result/visual_testing/matched_compos/detected')\n",
    "    \n",
    "#     for method in ['dhash', 'ssim', 'sift', 'surf']:\n",
    "#         gui.match_similar_elements(img_sim_method=method)\n",
    "#         gui.visualize_matched_element_pairs()        \n",
    "#         gui.save_matched_element_pairs_clips(output_dir='/home/ml/Data/result/visual_testing/matched_compos')\n",
    "    print('**********', time.ctime(), '*********\\n')"
   ]
  },
  {
   "cell_type": "code",
   "execution_count": null,
   "metadata": {},
   "outputs": [],
   "source": []
  },
  {
   "cell_type": "code",
   "execution_count": null,
   "metadata": {},
   "outputs": [],
   "source": []
  }
 ],
 "metadata": {
  "kernelspec": {
   "display_name": "Python 3",
   "language": "python",
   "name": "python3"
  },
  "language_info": {
   "codemirror_mode": {
    "name": "ipython",
    "version": 3
   },
   "file_extension": ".py",
   "mimetype": "text/x-python",
   "name": "python",
   "nbconvert_exporter": "python",
   "pygments_lexer": "ipython3",
   "version": "3.6.9"
  }
 },
 "nbformat": 4,
 "nbformat_minor": 2
}

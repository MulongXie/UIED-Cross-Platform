{
 "cells": [
  {
   "cell_type": "code",
   "execution_count": 10,
   "id": "a879c22a",
   "metadata": {},
   "outputs": [],
   "source": [
    "import cv2\n",
    "from match_elements.GUI import GUI"
   ]
  },
  {
   "cell_type": "code",
   "execution_count": 2,
   "id": "5d230c79",
   "metadata": {},
   "outputs": [],
   "source": [
    "gui = GUI(img_path='data/phonepic/Photo on 2022-02-14 at 11.54 PM #2.JPG')"
   ]
  },
  {
   "cell_type": "code",
   "execution_count": null,
   "id": "33e844c1",
   "metadata": {},
   "outputs": [],
   "source": []
  },
  {
   "cell_type": "code",
   "execution_count": 5,
   "id": "3dbedae5",
   "metadata": {},
   "outputs": [],
   "source": [
    "import detect_compo.lib_ip.ip_preprocessing as pre"
   ]
  },
  {
   "cell_type": "code",
   "execution_count": 8,
   "id": "c638eb4e",
   "metadata": {},
   "outputs": [],
   "source": [
    "org, gray = pre.read_img('data/input/A3.jpg', 800)"
   ]
  },
  {
   "cell_type": "code",
   "execution_count": 12,
   "id": "2b6f3280",
   "metadata": {},
   "outputs": [],
   "source": [
    "binary = pre.binarization(org, grad_min=6)"
   ]
  },
  {
   "cell_type": "code",
   "execution_count": 15,
   "id": "2c311c11",
   "metadata": {},
   "outputs": [],
   "source": [
    "cv2.imshow('bin', binary)\n",
    "cv2.waitKey()\n",
    "cv2.destroyAllWindows()"
   ]
  },
  {
   "cell_type": "code",
   "execution_count": 14,
   "id": "597069f1",
   "metadata": {},
   "outputs": [],
   "source": [
    "binary = cv2.adaptiveThreshold(gray, 255, cv2.ADAPTIVE_THRESH_GAUSSIAN_C, cv2.THRESH_BINARY, 55, 0)"
   ]
  },
  {
   "cell_type": "code",
   "execution_count": null,
   "id": "e474dab5",
   "metadata": {},
   "outputs": [],
   "source": []
  }
 ],
 "metadata": {
  "kernelspec": {
   "display_name": "Python 3",
   "language": "python",
   "name": "python3"
  },
  "language_info": {
   "codemirror_mode": {
    "name": "ipython",
    "version": 3
   },
   "file_extension": ".py",
   "mimetype": "text/x-python",
   "name": "python",
   "nbconvert_exporter": "python",
   "pygments_lexer": "ipython3",
   "version": "3.6.9"
  }
 },
 "nbformat": 4,
 "nbformat_minor": 5
}

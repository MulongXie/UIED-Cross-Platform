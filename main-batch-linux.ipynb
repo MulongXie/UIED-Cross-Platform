{
 "cells": [
  {
   "cell_type": "code",
   "execution_count": 1,
   "metadata": {},
   "outputs": [],
   "source": [
    "from match_elements.GUI_pair import GUIPair\n",
    "import cv2\n",
    "from os.path import join as pjoin\n",
    "from glob import glob\n",
    "from paddleocr import PaddleOCR\n",
    "import time"
   ]
  },
  {
   "cell_type": "code",
   "execution_count": 2,
   "metadata": {},
   "outputs": [
    {
     "name": "stdout",
     "output_type": "stream",
     "text": [
      "[2021/12/04 17:26:01] root WARNING: version PP-OCRv2 not support cls models, auto switch to version PP-OCR\n",
      "Namespace(benchmark=False, cls_batch_num=6, cls_image_shape='3, 48, 192', cls_model_dir='/home/ml/.paddleocr/2.3.0.2/ocr/cls/ch_ppocr_mobile_v2.0_cls_infer', cls_thresh=0.9, cpu_threads=10, det=True, det_algorithm='DB', det_db_box_thresh=0.6, det_db_score_mode='fast', det_db_thresh=0.3, det_db_unclip_ratio=1.5, det_east_cover_thresh=0.1, det_east_nms_thresh=0.2, det_east_score_thresh=0.8, det_limit_side_len=960, det_limit_type='max', det_model_dir='/home/ml/.paddleocr/2.3.0.2/ocr/det/ch/ch_PP-OCRv2_det_infer', det_pse_box_thresh=0.85, det_pse_box_type='box', det_pse_min_area=16, det_pse_scale=1, det_pse_thresh=0, det_sast_nms_thresh=0.2, det_sast_polygon=False, det_sast_score_thresh=0.5, drop_score=0.5, e2e_algorithm='PGNet', e2e_char_dict_path='./ppocr/utils/ic15_dict.txt', e2e_limit_side_len=768, e2e_limit_type='max', e2e_model_dir=None, e2e_pgnet_mode='fast', e2e_pgnet_polygon=True, e2e_pgnet_score_thresh=0.5, e2e_pgnet_valid_set='totaltext', enable_mkldnn=False, gpu_mem=500, help='==SUPPRESS==', image_dir=None, ir_optim=True, label_list=['0', '180'], lang='ch', layout_path_model='lp://PubLayNet/ppyolov2_r50vd_dcn_365e_publaynet/config', max_batch_size=10, max_text_length=25, min_subgraph_size=15, ocr_version='PP-OCRv2', output='./output/table', precision='fp32', process_id=0, rec=True, rec_algorithm='CRNN', rec_batch_num=6, rec_char_dict_path='/home/ml/.local/lib/python3.6/site-packages/paddleocr/ppocr/utils/ppocr_keys_v1.txt', rec_image_shape='3, 32, 320', rec_model_dir='/home/ml/.paddleocr/2.3.0.2/ocr/rec/ch/ch_PP-OCRv2_rec_infer', save_log_path='./log_output/', show_log=True, structure_version='STRUCTURE', table_char_dict_path=None, table_char_type='en', table_max_len=488, table_model_dir=None, total_process_num=1, type='ocr', use_angle_cls=True, use_dilation=False, use_gpu=False, use_mp=False, use_onnx=False, use_pdserving=False, use_space_char=True, use_tensorrt=False, vis_font_path='./doc/fonts/simfang.ttf', warmup=True)\n"
     ]
    }
   ],
   "source": [
    "from paddleocr import PaddleOCR\n",
    "paddle_cor = PaddleOCR(use_angle_cls=True, lang=\"ch\")"
   ]
  },
  {
   "cell_type": "code",
   "execution_count": 3,
   "metadata": {},
   "outputs": [
    {
     "name": "stderr",
     "output_type": "stream",
     "text": [
      "Using TensorFlow backend.\n"
     ]
    }
   ],
   "source": [
    "from keras.applications.resnet50 import ResNet50\n",
    "resnet_model = ResNet50(include_top=False, input_shape=(32, 32, 3))"
   ]
  },
  {
   "cell_type": "code",
   "execution_count": 4,
   "metadata": {},
   "outputs": [],
   "source": [
    "name = 2\n",
    "dir_android = '/home/ml/Data/visual testing/cameraimg/Android'\n",
    "dir_ios = '/home/ml/Data/visual testing/cameraimg/iOS'"
   ]
  },
  {
   "cell_type": "code",
   "execution_count": 5,
   "metadata": {},
   "outputs": [],
   "source": [
    "img_paths_android = sorted(glob(pjoin(dir_android, str(name), '*.JPG')))\n",
    "img_paths_ios = sorted(glob(pjoin(dir_ios, str(name), '*.JPG')))"
   ]
  },
  {
   "cell_type": "code",
   "execution_count": null,
   "metadata": {},
   "outputs": [
    {
     "name": "stdout",
     "output_type": "stream",
     "text": [
      "201 /home/ml/Data/visual testing/cameraimg/Android/2/A201.JPG /home/ml/Data/visual testing/cameraimg/iOS/2/I201.JPG\n",
      "[Similar Elements Matching 12.233s] Method:resnet Paired Text:11, Paired Compos:27\n",
      "********** Sat Dec  4 17:26:30 2021 *********\n",
      "\n",
      "202 /home/ml/Data/visual testing/cameraimg/Android/2/A202.JPG /home/ml/Data/visual testing/cameraimg/iOS/2/I202.JPG\n",
      "[Similar Elements Matching 3.348s] Method:resnet Paired Text:23, Paired Compos:11\n",
      "********** Sat Dec  4 17:26:33 2021 *********\n",
      "\n",
      "203 /home/ml/Data/visual testing/cameraimg/Android/2/A203.JPG /home/ml/Data/visual testing/cameraimg/iOS/2/I203.JPG\n",
      "[Similar Elements Matching 1.483s] Method:resnet Paired Text:10, Paired Compos:6\n",
      "********** Sat Dec  4 17:26:34 2021 *********\n",
      "\n",
      "204 /home/ml/Data/visual testing/cameraimg/Android/2/A204.JPG /home/ml/Data/visual testing/cameraimg/iOS/2/I204.JPG\n",
      "[Similar Elements Matching 2.972s] Method:resnet Paired Text:26, Paired Compos:10\n",
      "********** Sat Dec  4 17:26:37 2021 *********\n",
      "\n",
      "205 /home/ml/Data/visual testing/cameraimg/Android/2/A205.JPG /home/ml/Data/visual testing/cameraimg/iOS/2/I205.JPG\n",
      "[Similar Elements Matching 5.170s] Method:resnet Paired Text:10, Paired Compos:19\n",
      "********** Sat Dec  4 17:26:43 2021 *********\n",
      "\n",
      "206 /home/ml/Data/visual testing/cameraimg/Android/2/A206.JPG /home/ml/Data/visual testing/cameraimg/iOS/2/I206.JPG\n",
      "[Similar Elements Matching 1.351s] Method:resnet Paired Text:2, Paired Compos:9\n",
      "********** Sat Dec  4 17:26:44 2021 *********\n",
      "\n",
      "207 /home/ml/Data/visual testing/cameraimg/Android/2/A207.JPG /home/ml/Data/visual testing/cameraimg/iOS/2/I207.JPG\n",
      "[Similar Elements Matching 5.121s] Method:resnet Paired Text:10, Paired Compos:11\n",
      "********** Sat Dec  4 17:26:49 2021 *********\n",
      "\n",
      "208 /home/ml/Data/visual testing/cameraimg/Android/2/A208.JPG /home/ml/Data/visual testing/cameraimg/iOS/2/I208.JPG\n"
     ]
    }
   ],
   "source": [
    "for i, p_an in enumerate(img_paths_android):\n",
    "    p_ios = img_paths_ios[i]\n",
    "    gui_name = p_an.replace('\\\\', '/').split('/')[-1].split('.')[0][1:]\n",
    "    print(gui_name, p_an, p_ios)\n",
    "    \n",
    "    gui = GUIPair(gui_name, output_dir='/home/ml/Data/result/visual_testing/ui/' + str(name), img_path_android=p_an, img_path_ios=p_ios)\n",
    "    \n",
    "#     gui.element_detection(True, True, True, paddle_cor=paddle_cor)\n",
    "#     gui.show_detection_result()\n",
    "    gui.load_detection_result()\n",
    "#     gui.show_detection_result()\n",
    "    \n",
    "    gui.match_similar_elements(img_sim_method='resnet')\n",
    "    gui.save_matched_element_pairs_clips(output_dir='/home/ml/Data/result/visual_testing/matched_compos/detected')\n",
    "    \n",
    "#     for method in ['dhash', 'ssim', 'sift', 'surf']:\n",
    "#         gui.match_similar_elements(img_sim_method=method)\n",
    "#         gui.visualize_matched_element_pairs()        \n",
    "#         gui.save_matched_element_pairs_clips(output_dir='/home/ml/Data/result/visual_testing/matched_compos')\n",
    "    print('**********', time.ctime(), '*********\\n')"
   ]
  },
  {
   "cell_type": "code",
   "execution_count": null,
   "metadata": {},
   "outputs": [],
   "source": []
  },
  {
   "cell_type": "code",
   "execution_count": null,
   "metadata": {},
   "outputs": [],
   "source": []
  }
 ],
 "metadata": {
  "kernelspec": {
   "display_name": "Python 3",
   "language": "python",
   "name": "python3"
  },
  "language_info": {
   "codemirror_mode": {
    "name": "ipython",
    "version": 3
   },
   "file_extension": ".py",
   "mimetype": "text/x-python",
   "name": "python",
   "nbconvert_exporter": "python",
   "pygments_lexer": "ipython3",
   "version": "3.6.9"
  }
 },
 "nbformat": 4,
 "nbformat_minor": 2
}

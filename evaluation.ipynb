{
 "cells": [
  {
   "cell_type": "code",
   "execution_count": 1,
   "id": "da48c62c",
   "metadata": {},
   "outputs": [],
   "source": [
    "import cv2\n",
    "import numpy as np\n",
    "from glob import glob\n",
    "from os.path import join as pjoin\n",
    "import matplotlib.pyplot as plt\n",
    "from random import randint\n",
    "from match_elements.matching import image_similarity"
   ]
  },
  {
   "cell_type": "code",
   "execution_count": 2,
   "id": "b0df8e46",
   "metadata": {},
   "outputs": [
    {
     "name": "stderr",
     "output_type": "stream",
     "text": [
      "Using TensorFlow backend.\n"
     ]
    }
   ],
   "source": [
    "from keras.applications.resnet50 import ResNet50\n",
    "resnet_model = ResNet50(include_top=False, input_shape=(32, 32, 3))"
   ]
  },
  {
   "cell_type": "code",
   "execution_count": 3,
   "id": "e8e907a0",
   "metadata": {},
   "outputs": [],
   "source": [
    "def visualize_img_pair(pair):\n",
    "    plt.subplot(1,2, 1)\n",
    "    plt.imshow(pair[0])\n",
    "    plt.subplot(1,2, 2)\n",
    "    plt.imshow(pair[1])"
   ]
  },
  {
   "cell_type": "code",
   "execution_count": 4,
   "id": "52c4fab6",
   "metadata": {},
   "outputs": [],
   "source": [
    "pair_dir = '/home/ml/Data/result/visual_testing/matched_compos/cleaned'\n",
    "img_paths = sorted(glob(pjoin(pair_dir, '*')))\n",
    "\n",
    "name_pre = ''\n",
    "pos_img_pairs = []\n",
    "pos_path_pairs = []\n",
    "for i, path in enumerate(img_paths):\n",
    "    if i % 2 == 1:\n",
    "        if img_paths[i - 1].split('/')[-1].split('_')[0] == path.split('/')[-1].split('_')[0]:\n",
    "            pos_img_pairs.append([cv2.imread(img_paths[i - 1]), cv2.imread(path)])\n",
    "            pos_path_pairs.append([img_paths[i - 1], path])"
   ]
  },
  {
   "cell_type": "code",
   "execution_count": 5,
   "id": "f3ad278b",
   "metadata": {},
   "outputs": [],
   "source": [
    "neg_img_pairs = []\n",
    "neg_path_pairs = []\n",
    "num = len(pos_img_pairs) - 1\n",
    "for i, path_pair in enumerate(pos_path_pairs):\n",
    "    r_id = randint(0, num)\n",
    "    if r_id == i:\n",
    "        r_id = (r_id + 1) % num\n",
    "        \n",
    "    neg_img_pairs.append([pos_img_pairs[i][0], pos_img_pairs[r_id][1]])\n",
    "    neg_path_pairs.append([path_pair[0], pos_path_pairs[r_id][1]])"
   ]
  },
  {
   "cell_type": "code",
   "execution_count": null,
   "id": "b828a2cd",
   "metadata": {},
   "outputs": [],
   "source": []
  },
  {
   "cell_type": "code",
   "execution_count": 6,
   "id": "1dc886ff",
   "metadata": {},
   "outputs": [],
   "source": [
    "def calc_pairs_similarities(pairs):\n",
    "    sims = {'dhash':[], 'ssim':[], 'surf':[], 'sift':[], 'resnet':[]}\n",
    "    for pair in pairs:\n",
    "        img1, img2 = pair\n",
    "        sims['dhash'].append(image_similarity(img1, img2, method='dhash'))\n",
    "        sims['ssim'].append(image_similarity(img1, img2, method='ssim', is_gray=True))\n",
    "        sims['surf'].append(image_similarity(img1, img2, method='surf', draw_match=False, match_distance_ratio=1.3))\n",
    "        sims['sift'].append(image_similarity(img1, img2, method='sift', draw_match=False, match_distance_ratio=1.3))\n",
    "        sims['resnet'].append(image_similarity(img1, img2, method='resnet', resnet_model=resnet_model))\n",
    "    return sims"
   ]
  },
  {
   "cell_type": "code",
   "execution_count": 7,
   "id": "d761f604",
   "metadata": {},
   "outputs": [],
   "source": [
    "pos_sims = calc_pairs_similarities(pos_img_pairs)"
   ]
  },
  {
   "cell_type": "code",
   "execution_count": 8,
   "id": "a0d6b664",
   "metadata": {},
   "outputs": [],
   "source": [
    "neg_sims = calc_pairs_similarities(neg_img_pairs)"
   ]
  },
  {
   "cell_type": "code",
   "execution_count": null,
   "id": "3f90069d",
   "metadata": {},
   "outputs": [],
   "source": []
  },
  {
   "cell_type": "code",
   "execution_count": 9,
   "id": "7ec8f74b",
   "metadata": {},
   "outputs": [],
   "source": [
    "def correct_ratio(sim_pos, sim_neg, threshold, method):\n",
    "    pos_correct = 0\n",
    "    for sim in sim_pos[method]:\n",
    "        if sim >= threshold:\n",
    "            pos_correct += 1\n",
    "    correct_ratio_pos = pos_correct / len(sim_pos[method])\n",
    "    \n",
    "    neg_correct = 0\n",
    "    for sim in sim_neg[method]:\n",
    "        if sim < threshold:\n",
    "            neg_correct += 1\n",
    "    correct_ratio_neg = neg_correct / len(sim_neg[method])\n",
    "    \n",
    "    print(\"[%s] Positive Correctness: %.3f; Negative Correctness: %.3f\" % (method, correct_ratio_pos, correct_ratio_neg))\n",
    "    return correct_ratio_pos, correct_ratio_neg\n",
    "\n",
    "\n",
    "def correctness_in_range(sim_pos, sim_neg, method, thresh_range=np.arange(0.5, 1, 0.1)):\n",
    "    correctness = []\n",
    "    for i in thresh_range:\n",
    "        correctness.append(correct_ratio(sim_pos, sim_neg, i, method))\n",
    "    return np.array(correctness)\n",
    "\n",
    "\n",
    "def draw_correctness_curve(correctness, method):\n",
    "    plt.title(method)\n",
    "    plt.plot(thresh_range, correctness[:, 0], label='True Positive')\n",
    "    plt.plot(thresh_range, correctness[:, 1], label='True Negative')\n",
    "    plt.legend()\n",
    "    plt.xlabel('Min Similarity Threshold')\n",
    "    plt.ylabel('Score')"
   ]
  },
  {
   "cell_type": "code",
   "execution_count": 44,
   "id": "50a2e430",
   "metadata": {},
   "outputs": [
    {
     "name": "stdout",
     "output_type": "stream",
     "text": [
      "[dhash] Positive Correctness: 0.952; Negative Correctness: 0.390\n",
      "[dhash] Positive Correctness: 0.712; Negative Correctness: 0.837\n",
      "[dhash] Positive Correctness: 0.457; Negative Correctness: 0.971\n",
      "[dhash] Positive Correctness: 0.137; Negative Correctness: 1.000\n",
      "[dhash] Positive Correctness: 0.000; Negative Correctness: 1.000\n"
     ]
    },
    {
     "data": {
      "image/png": "[encoded data removed]",
      "text/plain": [
       "<Figure size 432x288 with 1 Axes>"
      ]
     },
     "metadata": {
      "needs_background": "light"
     },
     "output_type": "display_data"
    }
   ],
   "source": [
    "cor_dhash = correctness_in_range(pos_sims, neg_sims, 'dhash')\n",
    "draw_correctness_curve(cor_dhash, 'dhash')"
   ]
  },
  {
   "cell_type": "code",
   "execution_count": null,
   "id": "6f9f86c6",
   "metadata": {},
   "outputs": [],
   "source": []
  }
 ],
 "metadata": {
  "kernelspec": {
   "display_name": "Python 3",
   "language": "python",
   "name": "python3"
  },
  "language_info": {
   "codemirror_mode": {
    "name": "ipython",
    "version": 3
   },
   "file_extension": ".py",
   "mimetype": "text/x-python",
   "name": "python",
   "nbconvert_exporter": "python",
   "pygments_lexer": "ipython3",
   "version": "3.6.9"
  }
 },
 "nbformat": 4,
 "nbformat_minor": 5
}

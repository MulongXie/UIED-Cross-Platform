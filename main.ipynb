{
 "cells": [
  {
   "cell_type": "code",
   "execution_count": 1,
   "metadata": {},
   "outputs": [],
   "source": [
    "from match_elements.GUI_pair import GUIPair\n",
    "import cv2\n",
    "from matplotlib import pyplot as plt\n",
    "from random import randint as rint\n",
    "from difflib import SequenceMatcher\n",
    "import numpy as np"
   ]
  },
  {
   "cell_type": "code",
   "execution_count": 2,
   "metadata": {},
   "outputs": [],
   "source": [
    "gui = GUIPair('0001')"
   ]
  },
  {
   "cell_type": "code",
   "execution_count": 3,
   "metadata": {},
   "outputs": [
    {
     "name": "stdout",
     "output_type": "stream",
     "text": [
      "Namespace(cls_batch_num=30, cls_image_shape='3, 48, 192', cls_model_dir='C:\\\\Users\\\\Shae/.paddleocr/2.0/cls', cls_thresh=0.9, det=True, det_algorithm='DB', det_db_box_thresh=0.5, det_db_thresh=0.3, det_db_unclip_ratio=2.0, det_east_cover_thresh=0.1, det_east_nms_thresh=0.2, det_east_score_thresh=0.8, det_limit_side_len=960, det_limit_type='max', det_model_dir='C:\\\\Users\\\\Shae/.paddleocr/2.0/det', drop_score=0.5, enable_mkldnn=False, gpu_mem=8000, image_dir='', ir_optim=True, label_list=['0', '180'], lang='ch', max_text_length=25, rec=True, rec_algorithm='CRNN', rec_batch_num=30, rec_char_dict_path='./ppocr/utils/ppocr_keys_v1.txt', rec_char_type='ch', rec_image_shape='3, 32, 320', rec_model_dir='C:\\\\Users\\\\Shae/.paddleocr/2.0/rec/ch', use_angle_cls=True, use_gpu=True, use_pdserving=False, use_space_char=True, use_tensorrt=False, use_zero_copy_run=False)\n",
      "[2021/11/07 12:23:24] root INFO: dt_boxes num : 43, elapse : 3.78317928314209\n",
      "[2021/11/07 12:23:25] root INFO: cls num  : 43, elapse : 0.9052915573120117\n",
      "[2021/11/07 12:23:26] root INFO: rec_res num  : 43, elapse : 1.2389442920684814\n",
      "[Text Detection Completed in 6.878 s] Input: data/input\\A0001.jpg Output: data/output\\ocr\\A0001.json\n",
      "[2021/11/07 12:23:40] root INFO: dt_boxes num : 40, elapse : 12.984676837921143\n",
      "[2021/11/07 12:23:41] root INFO: cls num  : 40, elapse : 1.0402672290802002\n",
      "[2021/11/07 12:23:43] root INFO: rec_res num  : 40, elapse : 1.437349796295166\n",
      "[Text Detection Completed in 16.113 s] Input: data/input\\I0001.png Output: data/output\\ocr\\I0001.json\n",
      "No detection result, run element_detection() or load_detection_result() first\n"
     ]
    }
   ],
   "source": [
    "gui.element_detection(True, False, False)\n",
    "gui.show_detection_result()"
   ]
  },
  {
   "cell_type": "code",
   "execution_count": null,
   "metadata": {},
   "outputs": [],
   "source": []
  },
  {
   "cell_type": "code",
   "execution_count": 4,
   "metadata": {},
   "outputs": [],
   "source": [
    "gui.load_detection_result()\n",
    "gui.show_detection_result()"
   ]
  },
  {
   "cell_type": "code",
   "execution_count": 5,
   "metadata": {},
   "outputs": [],
   "source": [
    "# gui.save_element_clips()"
   ]
  },
  {
   "cell_type": "code",
   "execution_count": 6,
   "metadata": {},
   "outputs": [],
   "source": [
    "gui.match_similar_elements()\n",
    "gui.visualize_matched_element_pairs()"
   ]
  },
  {
   "cell_type": "code",
   "execution_count": null,
   "metadata": {},
   "outputs": [],
   "source": []
  },
  {
   "cell_type": "code",
   "execution_count": 7,
   "metadata": {},
   "outputs": [
    {
     "name": "stdout",
     "output_type": "stream",
     "text": [
      "No popup modal\n"
     ]
    }
   ],
   "source": [
    "gui.popup_modal_recognition()\n",
    "gui.draw_popup_modal()"
   ]
  },
  {
   "cell_type": "code",
   "execution_count": null,
   "metadata": {},
   "outputs": [],
   "source": []
  },
  {
   "cell_type": "code",
   "execution_count": null,
   "metadata": {},
   "outputs": [],
   "source": [
    "gui.show_detection_result()"
   ]
  }
 ],
 "metadata": {
  "kernelspec": {
   "display_name": "Python 3",
   "language": "python",
   "name": "python3"
  },
  "language_info": {
   "codemirror_mode": {
    "name": "ipython",
    "version": 3
   },
   "file_extension": ".py",
   "mimetype": "text/x-python",
   "name": "python",
   "nbconvert_exporter": "python",
   "pygments_lexer": "ipython3",
   "version": "3.5.6"
  }
 },
 "nbformat": 4,
 "nbformat_minor": 2
}

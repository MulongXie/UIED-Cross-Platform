{
 "cells": [
  {
   "cell_type": "code",
   "execution_count": 1,
   "metadata": {},
   "outputs": [],
   "source": [
    "from match_elements.GUI_pair import GUIPair\n",
    "import cv2\n",
    "from os.path import join as pjoin\n",
    "from glob import glob"
   ]
  },
  {
   "cell_type": "code",
   "execution_count": 2,
   "metadata": {},
   "outputs": [],
   "source": [
    "gui = GUIPair('3')"
   ]
  },
  {
   "cell_type": "code",
   "execution_count": 3,
   "metadata": {},
   "outputs": [
    {
     "name": "stdout",
     "output_type": "stream",
     "text": [
      "Namespace(cls_batch_num=30, cls_image_shape='3, 48, 192', cls_model_dir='C:\\\\Users\\\\Shae/.paddleocr/2.0/cls', cls_thresh=0.9, det=True, det_algorithm='DB', det_db_box_thresh=0.5, det_db_thresh=0.3, det_db_unclip_ratio=2.0, det_east_cover_thresh=0.1, det_east_nms_thresh=0.2, det_east_score_thresh=0.8, det_limit_side_len=960, det_limit_type='max', det_model_dir='C:\\\\Users\\\\Shae/.paddleocr/2.0/det', drop_score=0.5, enable_mkldnn=False, gpu_mem=8000, image_dir='', ir_optim=True, label_list=['0', '180'], lang='ch', max_text_length=25, rec=True, rec_algorithm='CRNN', rec_batch_num=30, rec_char_dict_path='./ppocr/utils/ppocr_keys_v1.txt', rec_char_type='ch', rec_image_shape='3, 32, 320', rec_model_dir='C:\\\\Users\\\\Shae/.paddleocr/2.0/rec/ch', use_angle_cls=True, use_gpu=True, use_pdserving=False, use_space_char=True, use_tensorrt=False, use_zero_copy_run=False)\n",
      "[2021/12/13 13:52:20] root INFO: dt_boxes num : 49, elapse : 6.419375658035278\n",
      "[2021/12/13 13:52:22] root INFO: cls num  : 49, elapse : 1.200209379196167\n",
      "[2021/12/13 13:52:25] root INFO: rec_res num  : 49, elapse : 2.5197298526763916\n",
      "[Text Detection Completed in 13.768 s] Input: data/input\\A3.jpg Output: data/output\\ocr\\A3.json\n",
      "[2021/12/13 13:52:49] root INFO: dt_boxes num : 50, elapse : 21.706943035125732\n",
      "[2021/12/13 13:52:52] root INFO: cls num  : 50, elapse : 2.825300931930542\n",
      "[2021/12/13 13:52:54] root INFO: rec_res num  : 50, elapse : 2.219895601272583\n",
      "[Text Detection Completed in 27.751 s] Input: data/input\\I3.png Output: data/output\\ocr\\I3.json\n",
      "[Compo Detection Completed in 1.933 s] Input: data/input\\A3.jpg Output: data/output\\ip\\A3.json\n",
      "[Compo Detection Completed in 0.952 s] Input: data/input\\I3.png Output: data/output\\ip\\I3.json\n",
      "[Merge Completed] Input: data/input\\A3.jpg Output: data/output\\merge\\A3.jpg\n",
      "[Merge Completed] Input: data/input\\I3.png Output: data/output\\merge\\I3.jpg\n"
     ]
    }
   ],
   "source": [
    "gui.element_detection(True, True, True)\n",
    "gui.show_detection_result()"
   ]
  },
  {
   "cell_type": "code",
   "execution_count": 3,
   "metadata": {},
   "outputs": [],
   "source": [
    "gui.load_detection_result()\n",
    "gui.show_detection_result()"
   ]
  },
  {
   "cell_type": "code",
   "execution_count": 4,
   "metadata": {},
   "outputs": [],
   "source": [
    "# gui.save_element_clips()"
   ]
  },
  {
   "cell_type": "code",
   "execution_count": 4,
   "metadata": {},
   "outputs": [
    {
     "name": "stderr",
     "output_type": "stream",
     "text": [
      "Using TensorFlow backend.\n",
      "D:\\Anaconda\\lib\\site-packages\\keras_applications\\resnet50.py:265: UserWarning: The output shape of `ResNet50(include_top=False)` has been changed since Keras 2.2.0.\n",
      "  warnings.warn('The output shape of `ResNet50(include_top=False)` '\n"
     ]
    },
    {
     "name": "stdout",
     "output_type": "stream",
     "text": [
      "[Similar Elements Matching 23.476s] Method:resnet Paired Text:32, Paired Compos:29\n"
     ]
    }
   ],
   "source": [
    "gui.match_similar_elements(img_sim_method='resnet')\n",
    "gui.visualize_matched_element_pairs()"
   ]
  },
  {
   "cell_type": "code",
   "execution_count": 6,
   "metadata": {},
   "outputs": [],
   "source": [
    "gui.visualize_matched_element_pairs()"
   ]
  },
  {
   "cell_type": "code",
   "execution_count": null,
   "metadata": {},
   "outputs": [],
   "source": [
    "gui.save_matched_element_pairs_clips(output_dir='E:\\Mulong\\Result\\matched_compos')"
   ]
  },
  {
   "cell_type": "code",
   "execution_count": 6,
   "metadata": {},
   "outputs": [
    {
     "name": "stdout",
     "output_type": "stream",
     "text": [
      "No popup modal\n"
     ]
    }
   ],
   "source": [
    "gui.popup_modal_recognition()\n",
    "gui.draw_popup_modal()"
   ]
  },
  {
   "cell_type": "code",
   "execution_count": null,
   "metadata": {},
   "outputs": [],
   "source": []
  }
 ],
 "metadata": {
  "kernelspec": {
   "display_name": "Python 3",
   "language": "python",
   "name": "python3"
  },
  "language_info": {
   "codemirror_mode": {
    "name": "ipython",
    "version": 3
   },
   "file_extension": ".py",
   "mimetype": "text/x-python",
   "name": "python",
   "nbconvert_exporter": "python",
   "pygments_lexer": "ipython3",
   "version": "3.5.6"
  }
 },
 "nbformat": 4,
 "nbformat_minor": 2
}

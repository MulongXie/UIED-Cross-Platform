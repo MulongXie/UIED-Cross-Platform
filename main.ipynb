{
 "cells": [
  {
   "cell_type": "code",
   "execution_count": 1,
   "metadata": {},
   "outputs": [],
   "source": [
    "from match_elements.GUI_pair import GUIPair\n",
    "import cv2\n",
    "from matplotlib import pyplot as plt\n",
    "from random import randint as rint\n",
    "from difflib import SequenceMatcher"
   ]
  },
  {
   "cell_type": "code",
   "execution_count": 2,
   "metadata": {},
   "outputs": [],
   "source": [
    "gui = GUIPair('0001')"
   ]
  },
  {
   "cell_type": "code",
   "execution_count": 3,
   "metadata": {},
   "outputs": [
    {
     "name": "stdout",
     "output_type": "stream",
     "text": [
      "[Compo Detection Completed in 1.731 s] Input: data/input\\A0001.jpg Output: data/output\\ip\\A0001.json\n",
      "[Compo Detection Completed in 0.870 s] Input: data/input\\I0001.png Output: data/output\\ip\\I0001.json\n",
      "[Merge Completed] Input: data/input\\A0001.jpg Output: data/output\\merge\\A0001.jpg\n",
      "[Merge Completed] Input: data/input\\I0001.png Output: data/output\\merge\\I0001.jpg\n"
     ]
    }
   ],
   "source": [
    "gui.element_detection(False, True, True)"
   ]
  },
  {
   "cell_type": "code",
   "execution_count": 4,
   "metadata": {},
   "outputs": [],
   "source": [
    "gui.load_detection_result()"
   ]
  },
  {
   "cell_type": "code",
   "execution_count": 5,
   "metadata": {},
   "outputs": [],
   "source": [
    "gui.show_detection_result()"
   ]
  },
  {
   "cell_type": "code",
   "execution_count": null,
   "metadata": {},
   "outputs": [],
   "source": []
  },
  {
   "cell_type": "code",
   "execution_count": 10,
   "metadata": {},
   "outputs": [],
   "source": [
    "gui.save_element_clips()"
   ]
  },
  {
   "cell_type": "code",
   "execution_count": 9,
   "metadata": {},
   "outputs": [
    {
     "data": {
      "text/plain": [
       "[<match_elements.Element.Element at 0x1733c0717f0>,\n",
       " <match_elements.Element.Element at 0x1733c071358>,\n",
       " <match_elements.Element.Element at 0x1733c0ca908>,\n",
       " <match_elements.Element.Element at 0x1733c0ca978>,\n",
       " <match_elements.Element.Element at 0x1733c0ca9e8>,\n",
       " <match_elements.Element.Element at 0x1733c0caa58>,\n",
       " <match_elements.Element.Element at 0x1733c0caac8>,\n",
       " <match_elements.Element.Element at 0x1733c0cab38>,\n",
       " <match_elements.Element.Element at 0x1733c0caba8>,\n",
       " <match_elements.Element.Element at 0x1733c0cac18>,\n",
       " <match_elements.Element.Element at 0x1733c0cac88>,\n",
       " <match_elements.Element.Element at 0x1733c0cacf8>,\n",
       " <match_elements.Element.Element at 0x1733c0cad68>,\n",
       " <match_elements.Element.Element at 0x1733c0cadd8>,\n",
       " <match_elements.Element.Element at 0x1733c0cae48>,\n",
       " <match_elements.Element.Element at 0x1733c0caeb8>,\n",
       " <match_elements.Element.Element at 0x1733c0caf28>,\n",
       " <match_elements.Element.Element at 0x1733c0caf98>,\n",
       " <match_elements.Element.Element at 0x1733c0b3048>,\n",
       " <match_elements.Element.Element at 0x1733c0b30b8>,\n",
       " <match_elements.Element.Element at 0x1733c0b3128>,\n",
       " <match_elements.Element.Element at 0x1733c0b3198>,\n",
       " <match_elements.Element.Element at 0x1733c0b3208>,\n",
       " <match_elements.Element.Element at 0x1733c0b3278>,\n",
       " <match_elements.Element.Element at 0x1733c0b32e8>,\n",
       " <match_elements.Element.Element at 0x1733c0b3358>,\n",
       " <match_elements.Element.Element at 0x1733c0b33c8>,\n",
       " <match_elements.Element.Element at 0x1733c0b3438>,\n",
       " <match_elements.Element.Element at 0x1733c0b34a8>,\n",
       " <match_elements.Element.Element at 0x1733c0b3518>,\n",
       " <match_elements.Element.Element at 0x1733c0b3588>,\n",
       " <match_elements.Element.Element at 0x1733c0b35f8>,\n",
       " <match_elements.Element.Element at 0x1733c0b3668>,\n",
       " <match_elements.Element.Element at 0x1733c0b36d8>,\n",
       " <match_elements.Element.Element at 0x1733c0b3748>,\n",
       " <match_elements.Element.Element at 0x1733c0b37b8>,\n",
       " <match_elements.Element.Element at 0x1733c0b3828>,\n",
       " <match_elements.Element.Element at 0x1733c0b3898>,\n",
       " <match_elements.Element.Element at 0x1733c0b3908>,\n",
       " <match_elements.Element.Element at 0x1733c0b3978>,\n",
       " <match_elements.Element.Element at 0x1733c0b39e8>,\n",
       " <match_elements.Element.Element at 0x1733c0b3a58>,\n",
       " <match_elements.Element.Element at 0x1733c0b3ac8>,\n",
       " <match_elements.Element.Element at 0x1733c0b3b38>,\n",
       " <match_elements.Element.Element at 0x1733c0b3ba8>,\n",
       " <match_elements.Element.Element at 0x1733c0b3c18>,\n",
       " <match_elements.Element.Element at 0x1733c0b3c88>,\n",
       " <match_elements.Element.Element at 0x1733c0b3cf8>,\n",
       " <match_elements.Element.Element at 0x1733c0b3d68>,\n",
       " <match_elements.Element.Element at 0x1733c0b3dd8>]"
      ]
     },
     "execution_count": 9,
     "metadata": {},
     "output_type": "execute_result"
    }
   ],
   "source": [
    "gui.elements_android"
   ]
  },
  {
   "cell_type": "code",
   "execution_count": null,
   "metadata": {},
   "outputs": [],
   "source": []
  },
  {
   "cell_type": "code",
   "execution_count": null,
   "metadata": {},
   "outputs": [],
   "source": []
  },
  {
   "cell_type": "code",
   "execution_count": 5,
   "metadata": {},
   "outputs": [],
   "source": [
    "gui.match_similar_elements()"
   ]
  },
  {
   "cell_type": "code",
   "execution_count": 6,
   "metadata": {},
   "outputs": [],
   "source": [
    "gui.visualize_matched_element_pairs()"
   ]
  }
 ],
 "metadata": {
  "kernelspec": {
   "display_name": "Python 3",
   "language": "python",
   "name": "python3"
  },
  "language_info": {
   "codemirror_mode": {
    "name": "ipython",
    "version": 3
   },
   "file_extension": ".py",
   "mimetype": "text/x-python",
   "name": "python",
   "nbconvert_exporter": "python",
   "pygments_lexer": "ipython3",
   "version": "3.5.6"
  }
 },
 "nbformat": 4,
 "nbformat_minor": 2
}

{
 "cells": [
  {
   "cell_type": "code",
   "execution_count": 1,
   "id": "a40e8f71",
   "metadata": {},
   "outputs": [],
   "source": [
    "import cv2\n",
    "from GUI import GUI\n",
    "import detect_compo.lib_ip.ip_preprocessing as pre"
   ]
  },
  {
   "cell_type": "code",
   "execution_count": 2,
   "id": "b4e0e08d",
   "metadata": {},
   "outputs": [],
   "source": [
    "gui = GUI(img_path='data/phonepic/0.jpg')"
   ]
  },
  {
   "cell_type": "code",
   "execution_count": 6,
   "id": "0e4ee410",
   "metadata": {},
   "outputs": [],
   "source": [
    "org, gray = pre.read_img('data/phonepic/17.jpg', 800)"
   ]
  },
  {
   "cell_type": "code",
   "execution_count": 7,
   "id": "af5e2904",
   "metadata": {},
   "outputs": [],
   "source": [
    "binary = pre.binarization(org, grad_min=6)\n",
    "\n",
    "cv2.imshow('bin', binary)\n",
    "cv2.waitKey()\n",
    "cv2.destroyAllWindows()"
   ]
  },
  {
   "cell_type": "code",
   "execution_count": null,
   "id": "67279b2f",
   "metadata": {},
   "outputs": [],
   "source": []
  },
  {
   "cell_type": "code",
   "execution_count": null,
   "id": "b9afd291",
   "metadata": {},
   "outputs": [],
   "source": []
  },
  {
   "cell_type": "code",
   "execution_count": null,
   "id": "d925adb7",
   "metadata": {},
   "outputs": [],
   "source": []
  }
 ],
 "metadata": {
  "kernelspec": {
   "display_name": "Python 3",
   "language": "python",
   "name": "python3"
  },
  "language_info": {
   "codemirror_mode": {
    "name": "ipython",
    "version": 3
   },
   "file_extension": ".py",
   "mimetype": "text/x-python",
   "name": "python",
   "nbconvert_exporter": "python",
   "pygments_lexer": "ipython3",
   "version": "3.6.9"
  }
 },
 "nbformat": 4,
 "nbformat_minor": 5
}
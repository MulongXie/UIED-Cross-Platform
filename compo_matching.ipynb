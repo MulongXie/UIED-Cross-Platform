{
 "cells": [
  {
   "cell_type": "code",
   "execution_count": 1,
   "metadata": {},
   "outputs": [],
   "source": [
    "from match_compos.GUI_pair import GUIPair\n",
    "import cv2\n",
    "from matplotlib import pyplot as plt\n",
    "from random import randint as rint\n",
    "from difflib import SequenceMatcher"
   ]
  },
  {
   "cell_type": "code",
   "execution_count": 2,
   "metadata": {},
   "outputs": [],
   "source": [
    "gui = GUIPair('0001')"
   ]
  },
  {
   "cell_type": "code",
   "execution_count": 3,
   "metadata": {},
   "outputs": [],
   "source": [
    "gui.component_detection(False, False, False)"
   ]
  },
  {
   "cell_type": "code",
   "execution_count": 4,
   "metadata": {},
   "outputs": [
    {
     "name": "stdout",
     "output_type": "stream",
     "text": [
      "No detection result, run component_detection() or load_detection_result() first\n"
     ]
    }
   ],
   "source": [
    "gui.show_detection_result()"
   ]
  },
  {
   "cell_type": "code",
   "execution_count": 5,
   "metadata": {},
   "outputs": [],
   "source": [
    "gui.load_detection_result()"
   ]
  },
  {
   "cell_type": "code",
   "execution_count": 6,
   "metadata": {},
   "outputs": [],
   "source": [
    "gui.show_detection_result()"
   ]
  },
  {
   "cell_type": "code",
   "execution_count": 7,
   "metadata": {},
   "outputs": [],
   "source": [
    "gui.save_clips()"
   ]
  },
  {
   "cell_type": "code",
   "execution_count": null,
   "metadata": {},
   "outputs": [],
   "source": []
  },
  {
   "cell_type": "code",
   "execution_count": 7,
   "metadata": {},
   "outputs": [],
   "source": [
    "gui.compos_mapping['a4c'].draw_compo(gui.img_android.copy(), show=True)\n",
    "gui.compos_mapping['i7c'].draw_compo(gui.img_ios.copy(), show=True)"
   ]
  },
  {
   "cell_type": "code",
   "execution_count": null,
   "metadata": {},
   "outputs": [],
   "source": []
  },
  {
   "cell_type": "code",
   "execution_count": 8,
   "metadata": {},
   "outputs": [],
   "source": []
  },
  {
   "cell_type": "code",
   "execution_count": 19,
   "metadata": {},
   "outputs": [],
   "source": [
    "a4c = gui.compos_mapping['a4c'].clip.copy()\n",
    "i7c = gui.compos_mapping['i7c'].clip.copy()"
   ]
  },
  {
   "cell_type": "code",
   "execution_count": null,
   "metadata": {},
   "outputs": [],
   "source": []
  },
  {
   "cell_type": "code",
   "execution_count": 8,
   "metadata": {},
   "outputs": [],
   "source": [
    "def dhash(image):\n",
    "    image = cv2.resize(image, (9, 8), interpolation=cv2.INTER_CUBIC)\n",
    "    gray = cv2.cvtColor(image, cv2.COLOR_RGB2GRAY)\n",
    "    dhash_str = ''\n",
    "    for i in range(8):\n",
    "        for j in range(8):\n",
    "            if gray[i, j] > gray[i, j + 1]:\n",
    "                dhash_str = dhash_str + '1'\n",
    "            else:\n",
    "                dhash_str = dhash_str + '0'\n",
    "    #     result = ''\n",
    "    #     for i in range(0, 64, 4):\n",
    "    #         result += ''.join('%x' % int(dhash_str[i: i + 4], 2))\n",
    "    # print(\"dhash值\",result)\n",
    "    return dhash_str\n",
    "\n",
    "\n",
    "def comp_hash(hash1, hash2):\n",
    "    n = 0\n",
    "    if len(hash1) != len(hash2):\n",
    "        return -1\n",
    "    for i in range(len(hash1)):\n",
    "        if hash1[i] != hash2[i]:\n",
    "            n = n + 1\n",
    "    return 1 - n / len(hash1)\n",
    "\n",
    "\n",
    "def comp_compo_clip(img1, img2):\n",
    "    h1 = dhash(img1)\n",
    "    h2 = dhash(img2)\n",
    "    return comp_hash(h1, h2)"
   ]
  },
  {
   "cell_type": "code",
   "execution_count": 9,
   "metadata": {},
   "outputs": [],
   "source": [
    "compo_pairs = []\n",
    "for compo_android in gui.compos_android:\n",
    "    for compo_ios in gui.compos_ios:\n",
    "        similarity = comp_compo_clip(compo_android.clip, compo_ios.clip)\n",
    "        if similarity > 0.75:\n",
    "            compo_pairs.append((compo_android.id, compo_ios.id))"
   ]
  },
  {
   "cell_type": "code",
   "execution_count": null,
   "metadata": {},
   "outputs": [],
   "source": []
  },
  {
   "cell_type": "code",
   "execution_count": null,
   "metadata": {},
   "outputs": [],
   "source": []
  },
  {
   "cell_type": "code",
   "execution_count": 10,
   "metadata": {},
   "outputs": [],
   "source": [
    "text_pair = []\n",
    "for compo_android in gui.compos_android:\n",
    "    if compo_android.category != 'Text':\n",
    "        continue\n",
    "    for compo_ios in gui.compos_ios:\n",
    "        if compo_ios.category != 'Text':\n",
    "            continue\n",
    "        text_sim = SequenceMatcher(None, compo_android.text_content, compo_ios.text_content).ratio()\n",
    "        if text_sim > 0.8:\n",
    "            text_pair.append((compo_android.id, compo_ios.id))"
   ]
  },
  {
   "cell_type": "code",
   "execution_count": 12,
   "metadata": {},
   "outputs": [],
   "source": [
    "compo_pair = []\n",
    "for compo_android in gui.compos_android:\n",
    "    if compo_android.category != 'Compo':\n",
    "        continue\n",
    "    for compo_ios in gui.compos_ios:\n",
    "        if compo_ios.category != 'Compo':\n",
    "            continue\n",
    "        compo_sim = comp_compo_clip(compo_android.clip, compo_ios.clip)\n",
    "        if compo_sim > 0.8:\n",
    "            compo_pair.append((compo_android.id, compo_ios.id))"
   ]
  },
  {
   "cell_type": "code",
   "execution_count": null,
   "metadata": {},
   "outputs": [],
   "source": []
  },
  {
   "cell_type": "code",
   "execution_count": 15,
   "metadata": {},
   "outputs": [],
   "source": [
    "board_android = gui.img_android.copy()\n",
    "board_ios = gui.img_ios.copy()"
   ]
  },
  {
   "cell_type": "code",
   "execution_count": null,
   "metadata": {},
   "outputs": [],
   "source": []
  },
  {
   "cell_type": "code",
   "execution_count": null,
   "metadata": {},
   "outputs": [],
   "source": []
  },
  {
   "cell_type": "code",
   "execution_count": null,
   "metadata": {},
   "outputs": [],
   "source": [
    "for pair in compo_pairs:\n",
    "    color = (rint(0,255), rint(0,255), rint(0,255))\n",
    "    gui.compos_mapping[pair[0]].draw_compo(board_android, color=color, line=-1, show_id=False)\n",
    "    gui.compos_mapping[pair[1]].draw_compo(board_ios, color=color, line=-1, show_id=False)\n",
    "    \n",
    "for pair in text_pair:\n",
    "    color = (rint(0,255), rint(0,255), rint(0,255))\n",
    "    gui.compos_mapping[pair[0]].draw_compo(board_android, color=color, line=-1, show_id=False)\n",
    "    gui.compos_mapping[pair[1]].draw_compo(board_ios, color=color, line=-1, show_id=False)\n",
    "cv2.imshow('android', cv2.resize(board_android, (int(board_android.shape[1] * (800 / board_android.shape[0])), 800)))\n",
    "cv2.imshow('andorid', cv2.resize(board_ios, (int(board_ios.shape[1] * (800 / board_ios.shape[0])), 800)))\n",
    "cv2.waitKey()\n",
    "cv2.destroyAllWindows()"
   ]
  }
 ],
 "metadata": {
  "kernelspec": {
   "display_name": "Python 3",
   "language": "python",
   "name": "python3"
  },
  "language_info": {
   "codemirror_mode": {
    "name": "ipython",
    "version": 3
   },
   "file_extension": ".py",
   "mimetype": "text/x-python",
   "name": "python",
   "nbconvert_exporter": "python",
   "pygments_lexer": "ipython3",
   "version": "3.5.6"
  }
 },
 "nbformat": 4,
 "nbformat_minor": 2
}

{
 "cells": [
  {
   "cell_type": "code",
   "execution_count": 1,
   "metadata": {},
   "outputs": [],
   "source": [
    "from match_elements.GUI_pair import GUIPair\n",
    "import cv2\n",
    "from matplotlib import pyplot as plt\n",
    "from random import randint as rint\n",
    "from difflib import SequenceMatcher"
   ]
  },
  {
   "cell_type": "code",
   "execution_count": 2,
   "metadata": {},
   "outputs": [],
   "source": [
    "gui = GUIPair('0001')"
   ]
  },
  {
   "cell_type": "code",
   "execution_count": 4,
   "metadata": {},
   "outputs": [
    {
     "name": "stdout",
     "output_type": "stream",
     "text": [
      "Namespace(cls_batch_num=30, cls_image_shape='3, 48, 192', cls_model_dir='C:\\\\Users\\\\Shae/.paddleocr/2.0/cls', cls_thresh=0.9, det=True, det_algorithm='DB', det_db_box_thresh=0.5, det_db_thresh=0.3, det_db_unclip_ratio=2.0, det_east_cover_thresh=0.1, det_east_nms_thresh=0.2, det_east_score_thresh=0.8, det_limit_side_len=960, det_limit_type='max', det_model_dir='C:\\\\Users\\\\Shae/.paddleocr/2.0/det', drop_score=0.5, enable_mkldnn=False, gpu_mem=8000, image_dir='', ir_optim=True, label_list=['0', '180'], lang='ch', max_text_length=25, rec=True, rec_algorithm='CRNN', rec_batch_num=30, rec_char_dict_path='./ppocr/utils/ppocr_keys_v1.txt', rec_char_type='ch', rec_image_shape='3, 32, 320', rec_model_dir='C:\\\\Users\\\\Shae/.paddleocr/2.0/rec/ch', use_angle_cls=True, use_gpu=True, use_pdserving=False, use_space_char=True, use_tensorrt=False, use_zero_copy_run=False)\n",
      "[2021/11/02 18:57:40] root INFO: dt_boxes num : 43, elapse : 2.903244733810425\n",
      "[2021/11/02 18:57:41] root INFO: cls num  : 43, elapse : 0.6654298305511475\n",
      "[2021/11/02 18:57:42] root INFO: rec_res num  : 43, elapse : 1.1454801559448242\n",
      "[Text Detection Completed in 5.010 s] Input: data/input\\A0001.jpg Output: data/output\\ocr\\A0001.json\n",
      "[2021/11/02 18:57:48] root INFO: dt_boxes num : 40, elapse : 5.387474298477173\n",
      "[2021/11/02 18:57:49] root INFO: cls num  : 40, elapse : 0.7598042488098145\n",
      "[2021/11/02 18:57:51] root INFO: rec_res num  : 40, elapse : 1.5648818016052246\n",
      "[Text Detection Completed in 8.349 s] Input: data/input\\I0001.png Output: data/output\\ocr\\I0001.json\n",
      "[Compo Detection Completed in 1.680 s] Input: data/input\\A0001.jpg Output: data/output\\ip\\A0001.json\n",
      "[Compo Detection Completed in 1.192 s] Input: data/input\\I0001.png Output: data/output\\ip\\I0001.json\n",
      "[Merge Completed] Input: data/input\\A0001.jpg Output: data/output\\merge\\A0001.jpg\n",
      "[Merge Completed] Input: data/input\\I0001.png Output: data/output\\merge\\I0001.jpg\n"
     ]
    }
   ],
   "source": [
    "gui.element_detection(True, True, True)"
   ]
  },
  {
   "cell_type": "code",
   "execution_count": 4,
   "metadata": {},
   "outputs": [],
   "source": [
    "gui.load_detection_result()"
   ]
  },
  {
   "cell_type": "code",
   "execution_count": 5,
   "metadata": {},
   "outputs": [],
   "source": [
    "gui.show_detection_result()"
   ]
  },
  {
   "cell_type": "code",
   "execution_count": null,
   "metadata": {},
   "outputs": [],
   "source": []
  },
  {
   "cell_type": "code",
   "execution_count": 10,
   "metadata": {},
   "outputs": [],
   "source": [
    "gui.save_element_clips()"
   ]
  },
  {
   "cell_type": "code",
   "execution_count": 9,
   "metadata": {},
   "outputs": [
    {
     "data": {
      "text/plain": [
       "[<match_elements.Element.Element at 0x1733c0717f0>,\n",
       " <match_elements.Element.Element at 0x1733c071358>,\n",
       " <match_elements.Element.Element at 0x1733c0ca908>,\n",
       " <match_elements.Element.Element at 0x1733c0ca978>,\n",
       " <match_elements.Element.Element at 0x1733c0ca9e8>,\n",
       " <match_elements.Element.Element at 0x1733c0caa58>,\n",
       " <match_elements.Element.Element at 0x1733c0caac8>,\n",
       " <match_elements.Element.Element at 0x1733c0cab38>,\n",
       " <match_elements.Element.Element at 0x1733c0caba8>,\n",
       " <match_elements.Element.Element at 0x1733c0cac18>,\n",
       " <match_elements.Element.Element at 0x1733c0cac88>,\n",
       " <match_elements.Element.Element at 0x1733c0cacf8>,\n",
       " <match_elements.Element.Element at 0x1733c0cad68>,\n",
       " <match_elements.Element.Element at 0x1733c0cadd8>,\n",
       " <match_elements.Element.Element at 0x1733c0cae48>,\n",
       " <match_elements.Element.Element at 0x1733c0caeb8>,\n",
       " <match_elements.Element.Element at 0x1733c0caf28>,\n",
       " <match_elements.Element.Element at 0x1733c0caf98>,\n",
       " <match_elements.Element.Element at 0x1733c0b3048>,\n",
       " <match_elements.Element.Element at 0x1733c0b30b8>,\n",
       " <match_elements.Element.Element at 0x1733c0b3128>,\n",
       " <match_elements.Element.Element at 0x1733c0b3198>,\n",
       " <match_elements.Element.Element at 0x1733c0b3208>,\n",
       " <match_elements.Element.Element at 0x1733c0b3278>,\n",
       " <match_elements.Element.Element at 0x1733c0b32e8>,\n",
       " <match_elements.Element.Element at 0x1733c0b3358>,\n",
       " <match_elements.Element.Element at 0x1733c0b33c8>,\n",
       " <match_elements.Element.Element at 0x1733c0b3438>,\n",
       " <match_elements.Element.Element at 0x1733c0b34a8>,\n",
       " <match_elements.Element.Element at 0x1733c0b3518>,\n",
       " <match_elements.Element.Element at 0x1733c0b3588>,\n",
       " <match_elements.Element.Element at 0x1733c0b35f8>,\n",
       " <match_elements.Element.Element at 0x1733c0b3668>,\n",
       " <match_elements.Element.Element at 0x1733c0b36d8>,\n",
       " <match_elements.Element.Element at 0x1733c0b3748>,\n",
       " <match_elements.Element.Element at 0x1733c0b37b8>,\n",
       " <match_elements.Element.Element at 0x1733c0b3828>,\n",
       " <match_elements.Element.Element at 0x1733c0b3898>,\n",
       " <match_elements.Element.Element at 0x1733c0b3908>,\n",
       " <match_elements.Element.Element at 0x1733c0b3978>,\n",
       " <match_elements.Element.Element at 0x1733c0b39e8>,\n",
       " <match_elements.Element.Element at 0x1733c0b3a58>,\n",
       " <match_elements.Element.Element at 0x1733c0b3ac8>,\n",
       " <match_elements.Element.Element at 0x1733c0b3b38>,\n",
       " <match_elements.Element.Element at 0x1733c0b3ba8>,\n",
       " <match_elements.Element.Element at 0x1733c0b3c18>,\n",
       " <match_elements.Element.Element at 0x1733c0b3c88>,\n",
       " <match_elements.Element.Element at 0x1733c0b3cf8>,\n",
       " <match_elements.Element.Element at 0x1733c0b3d68>,\n",
       " <match_elements.Element.Element at 0x1733c0b3dd8>]"
      ]
     },
     "execution_count": 9,
     "metadata": {},
     "output_type": "execute_result"
    }
   ],
   "source": [
    "gui.elements_android"
   ]
  },
  {
   "cell_type": "code",
   "execution_count": null,
   "metadata": {},
   "outputs": [],
   "source": []
  },
  {
   "cell_type": "code",
   "execution_count": null,
   "metadata": {},
   "outputs": [],
   "source": []
  },
  {
   "cell_type": "code",
   "execution_count": 5,
   "metadata": {},
   "outputs": [],
   "source": [
    "gui.match_similar_elements()"
   ]
  },
  {
   "cell_type": "code",
   "execution_count": 6,
   "metadata": {},
   "outputs": [],
   "source": [
    "gui.visualize_matched_element_pairs()"
   ]
  }
 ],
 "metadata": {
  "kernelspec": {
   "display_name": "Python 3",
   "language": "python",
   "name": "python3"
  },
  "language_info": {
   "codemirror_mode": {
    "name": "ipython",
    "version": 3
   },
   "file_extension": ".py",
   "mimetype": "text/x-python",
   "name": "python",
   "nbconvert_exporter": "python",
   "pygments_lexer": "ipython3",
   "version": "3.5.6"
  }
 },
 "nbformat": 4,
 "nbformat_minor": 2
}

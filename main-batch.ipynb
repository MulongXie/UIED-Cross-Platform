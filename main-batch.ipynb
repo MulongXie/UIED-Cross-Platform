{
 "cells": [
  {
   "cell_type": "code",
   "execution_count": 1,
   "metadata": {},
   "outputs": [],
   "source": [
    "from match_elements.GUI_pair import GUIPair\n",
    "import cv2\n",
    "from os.path import join as pjoin\n",
    "from glob import glob"
   ]
  },
  {
   "cell_type": "code",
   "execution_count": 2,
   "metadata": {},
   "outputs": [],
   "source": [
    "files = glob(pjoin('data/output/merge/', 'A*.jpg'))\n",
    "gui_names = [f.split('A')[-1].split('.')[0] for f in files]"
   ]
  },
  {
   "cell_type": "code",
   "execution_count": 3,
   "metadata": {},
   "outputs": [
    {
     "name": "stdout",
     "output_type": "stream",
     "text": [
      "[Similar Elements Matching 0.368s] Method:dhash Paired Text:18, Paired Compos:34\n",
      "Save matched compo pairs to E:\\Mulong\\Result\\matched_compos\n",
      "[Similar Elements Matching 1.283s] Method:ssim Paired Text:2, Paired Compos:0\n",
      "Save matched compo pairs to E:\\Mulong\\Result\\matched_compos\n",
      "[Similar Elements Matching 0.787s] Method:sift Paired Text:1, Paired Compos:0\n",
      "Save matched compo pairs to E:\\Mulong\\Result\\matched_compos\n",
      "[Similar Elements Matching 0.324s] Method:surf Paired Text:2, Paired Compos:0\n",
      "Save matched compo pairs to E:\\Mulong\\Result\\matched_compos\n"
     ]
    }
   ],
   "source": [
    "for name in gui_names:\n",
    "    gui = GUIPair(name)    \n",
    "    \n",
    "    # gui.element_detection(False, False, False)\n",
    "    # gui.show_detection_result()\n",
    "    \n",
    "    gui.load_detection_result()\n",
    "    # gui.show_detection_result()    \n",
    "    \n",
    "    for method in ['dhash', 'ssim', 'sift', 'surf']:\n",
    "        gui.match_similar_elements(img_sim_method=method)\n",
    "        gui.visualize_matched_element_pairs()        \n",
    "        gui.save_matched_element_pairs_clips(output_dir='E:\\Mulong\\Result\\matched_compos')\n",
    "    break"
   ]
  },
  {
   "cell_type": "code",
   "execution_count": null,
   "metadata": {},
   "outputs": [],
   "source": []
  }
 ],
 "metadata": {
  "kernelspec": {
   "display_name": "Python 3",
   "language": "python",
   "name": "python3"
  },
  "language_info": {
   "codemirror_mode": {
    "name": "ipython",
    "version": 3
   },
   "file_extension": ".py",
   "mimetype": "text/x-python",
   "name": "python",
   "nbconvert_exporter": "python",
   "pygments_lexer": "ipython3",
   "version": "3.5.6"
  }
 },
 "nbformat": 4,
 "nbformat_minor": 2
}

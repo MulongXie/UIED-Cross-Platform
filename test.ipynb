{
 "cells": [
  {
   "cell_type": "code",
   "execution_count": 9,
   "metadata": {},
   "outputs": [],
   "source": [
    "import cv2\n",
    "import numpy as np\n",
    "from skimage.measure import compare_ssim\n",
    "from match_elements.matching import image_similarity\n",
    "import matplotlib.pyplot as plt\n",
    "import detect_compo.lib_ip.ip_preprocessing as pre"
   ]
  },
  {
   "cell_type": "code",
   "execution_count": 10,
   "metadata": {},
   "outputs": [],
   "source": [
    "# ***********************************\n",
    "# ****** Test Image Similarity ******\n",
    "# ***********************************"
   ]
  },
  {
   "cell_type": "code",
   "execution_count": 11,
   "metadata": {},
   "outputs": [],
   "source": [
    "# img1 = cv2.imread('data/output/clip/android/a0c.jpg')\n",
    "# img2 = cv2.imread('data/output/clip/ios/i2c.jpg')\n",
    "\n",
    "img1 = cv2.imread('data/output/clip/android/a11c.jpg')\n",
    "img2 = cv2.imread('data/output/clip/ios/i10c.jpg')"
   ]
  },
  {
   "cell_type": "code",
   "execution_count": 20,
   "metadata": {},
   "outputs": [
    {
     "data": {
      "text/plain": [
       "0.875"
      ]
     },
     "execution_count": 20,
     "metadata": {},
     "output_type": "execute_result"
    }
   ],
   "source": [
    "image_similarity(img1, img2, method='dhash')"
   ]
  },
  {
   "cell_type": "code",
   "execution_count": 14,
   "metadata": {},
   "outputs": [
    {
     "data": {
      "text/plain": [
       "0.9020413590146766"
      ]
     },
     "execution_count": 14,
     "metadata": {},
     "output_type": "execute_result"
    }
   ],
   "source": [
    "image_similarity(img1, img2, method='ssim', is_gray=True)"
   ]
  },
  {
   "cell_type": "code",
   "execution_count": 15,
   "metadata": {},
   "outputs": [
    {
     "data": {
      "text/plain": [
       "0.5666666666666667"
      ]
     },
     "execution_count": 15,
     "metadata": {},
     "output_type": "execute_result"
    }
   ],
   "source": [
    "image_similarity(img1, img2, method='surf', draw_match=True, match_distance_ratio=1.3)"
   ]
  },
  {
   "cell_type": "code",
   "execution_count": 18,
   "metadata": {},
   "outputs": [
    {
     "data": {
      "text/plain": [
       "0.6086956521739131"
      ]
     },
     "execution_count": 18,
     "metadata": {},
     "output_type": "execute_result"
    }
   ],
   "source": [
    "image_similarity(img1, img2, method='sift', draw_match=True, match_distance_ratio=1.3)"
   ]
  },
  {
   "cell_type": "code",
   "execution_count": 21,
   "metadata": {},
   "outputs": [],
   "source": [
    "cv2.imshow('1', img1)\n",
    "cv2.imshow('2', img2)\n",
    "cv2.waitKey()\n",
    "cv2.destroyAllWindows()"
   ]
  },
  {
   "cell_type": "code",
   "execution_count": 1,
   "metadata": {},
   "outputs": [],
   "source": [
    "# ****************************************\n",
    "# ****** Test Adaptive Binarization ******\n",
    "# ****************************************"
   ]
  },
  {
   "cell_type": "code",
   "execution_count": 13,
   "metadata": {},
   "outputs": [],
   "source": [
    "img = cv2.imread('data/input/I203.png') \n",
    "img_gray=cv2.cvtColor(img,cv2.COLOR_BGR2GRAY)\n",
    "cv2.imshow('img',cv2.resize(img, (500,800)))\n",
    "cv2.imshow('gray',cv2.resize(img_gray, (500,800)))\n",
    "\n",
    "binary = pre.binarization(img, grad_min=4)\n",
    "cv2.imshow('bin', cv2.resize(binary, (500,800)))\n",
    "# thresh,img_bin = cv2.threshold(img_gray,10, 255, cv2.THRESH_BINARY|cv2.THRESH_OTSU)\n",
    "# cv2.imshow('threshold',cv2.resize(img_bin, (500,800)))\n",
    "# img_ret11 = cv2.adaptiveThreshold(img_gray,  255, cv2.ADAPTIVE_THRESH_MEAN_C,cv2.THRESH_BINARY,55,0 ) \n",
    "# cv2.imshow('adaptiveThreshold',cv2.resize(img_ret11, (500,800)))\n",
    "img_ret12 = cv2.adaptiveThreshold(img_gray,  255, cv2.ADAPTIVE_THRESH_GAUSSIAN_C,cv2.THRESH_BINARY,55,0 ) \n",
    "cv2.imshow('adaptive2', cv2.resize(img_ret12, (500,800)))\n",
    "\n",
    "\n",
    "cv2.waitKey()\n",
    "cv2.destroyAllWindows()"
   ]
  },
  {
   "cell_type": "code",
   "execution_count": 1,
   "metadata": {},
   "outputs": [],
   "source": [
    "# **************************\n",
    "# ****** Test Siamese ******\n",
    "# **************************"
   ]
  },
  {
   "cell_type": "code",
   "execution_count": 2,
   "metadata": {},
   "outputs": [
    {
     "name": "stderr",
     "output_type": "stream",
     "text": [
      "Using TensorFlow backend.\n"
     ]
    }
   ],
   "source": [
    "from match_elements.SiameseNN import SiameseModel, SiameseData"
   ]
  },
  {
   "cell_type": "code",
   "execution_count": 3,
   "metadata": {},
   "outputs": [
    {
     "name": "stdout",
     "output_type": "stream",
     "text": [
      "24 classes found in the dataset\n",
      "X, Y shape (240, 100, 100, 3) (240,)\n",
      "16 classes for training and 8  classes for testing\n",
      "X&Y shape of training data : (160, 100, 100, 3) and (160,)\n",
      "X&Y shape of testing data : (80, 100, 100, 3) and (80,)\n"
     ]
    }
   ],
   "source": [
    "data = SiameseData()\n",
    "\n",
    "data.load_data_classification()\n",
    "data.split_data()"
   ]
  },
  {
   "cell_type": "code",
   "execution_count": 4,
   "metadata": {},
   "outputs": [
    {
     "name": "stderr",
     "output_type": "stream",
     "text": [
      "D:\\git_file\\github\\doing\\UIED-Cross-Platform\\match_elements\\SiameseNN.py:47: UserWarning: Update your `Model` call to the Keras 2 API: `Model(outputs=Tensor(\"de..., inputs=[<tf.Tenso...)`\n",
      "  siamese_net = Model(input=[left_input, right_input], output=prediction)\n"
     ]
    }
   ],
   "source": [
    "siamese_net = SiameseModel()"
   ]
  },
  {
   "cell_type": "code",
   "execution_count": 5,
   "metadata": {},
   "outputs": [
    {
     "name": "stdout",
     "output_type": "stream",
     "text": [
      "Model loaded from: E:/Mulong/Datasets/siamese/siamese.h5\n"
     ]
    }
   ],
   "source": [
    "siamese_net.load_model()"
   ]
  },
  {
   "cell_type": "code",
   "execution_count": 6,
   "metadata": {},
   "outputs": [
    {
     "name": "stdout",
     "output_type": "stream",
     "text": [
      "Epoch: 1 , Loss: 0.6931472\n",
      "Epoch: 2 , Loss: 0.6931472\n",
      "Epoch: 3 , Loss: 0.6931472\n",
      "Epoch: 4 , Loss: 0.6931472\n",
      "Epoch: 5 , Loss: 0.6931472\n",
      "Epoch: 6 , Loss: 0.6931472\n",
      "Epoch: 7 , Loss: 0.6931472\n",
      "Epoch: 8 , Loss: 0.6931472\n",
      "Epoch: 9 , Loss: 0.6931472\n",
      "Epoch: 10 , Loss: 0.6931472\n",
      "Epoch: 11 , Loss: 0.6931472\n",
      "Epoch: 12 , Loss: 0.6931472\n",
      "Epoch: 13 , Loss: 0.6931472\n",
      "Epoch: 14 , Loss: 0.6931472\n",
      "Epoch: 15 , Loss: 0.6931472\n",
      "Epoch: 16 , Loss: 0.6931472\n",
      "Epoch: 17 , Loss: 0.6931472\n",
      "Epoch: 18 , Loss: 0.6931472\n",
      "Epoch: 19 , Loss: 0.6931472\n",
      "Epoch: 20 , Loss: 0.6931472\n",
      "Epoch: 21 , Loss: 0.6931472\n",
      "Epoch: 22 , Loss: 0.6931472\n",
      "Epoch: 23 , Loss: 0.6931472\n",
      "Epoch: 24 , Loss: 0.6931472\n",
      "Epoch: 25 , Loss: 0.6931472\n",
      "Epoch: 26 , Loss: 0.6931472\n",
      "Epoch: 27 , Loss: 0.6931472\n",
      "Epoch: 28 , Loss: 0.6931472\n",
      "Epoch: 29 , Loss: 0.6931472\n",
      "Epoch: 30 , Loss: 0.6931472\n",
      "Epoch: 31 , Loss: 0.6931472\n",
      "Epoch: 32 , Loss: 0.6931472\n",
      "Epoch: 33 , Loss: 0.6931472\n",
      "Epoch: 34 , Loss: 0.6931472\n",
      "Epoch: 35 , Loss: 0.6931472\n",
      "Epoch: 36 , Loss: 0.6931472\n",
      "Epoch: 37 , Loss: 0.6931472\n",
      "Epoch: 38 , Loss: 0.6931472\n",
      "Epoch: 39 , Loss: 0.6931472\n",
      "Epoch: 40 , Loss: 0.6931472\n",
      "Epoch: 41 , Loss: 0.6931472\n",
      "Epoch: 42 , Loss: 0.6931472\n",
      "Epoch: 43 , Loss: 0.6931472\n",
      "Epoch: 44 , Loss: 0.6931472\n",
      "Epoch: 45 , Loss: 0.6931472\n",
      "Epoch: 46 , Loss: 0.6931472\n",
      "Epoch: 47 , Loss: 0.6931472\n",
      "Epoch: 48 , Loss: 0.6931472\n",
      "Epoch: 49 , Loss: 0.6931472\n",
      "Epoch: 50 , Loss: 0.6931472\n",
      "Epoch: 51 , Loss: 0.6931472\n",
      "Epoch: 52 , Loss: 0.6931472\n",
      "Epoch: 53 , Loss: 0.6931472\n",
      "Epoch: 54 , Loss: 0.6931472\n",
      "Epoch: 55 , Loss: 0.6931472\n",
      "Epoch: 56 , Loss: 0.6931472\n",
      "Epoch: 57 , Loss: 0.6931472\n",
      "Epoch: 58 , Loss: 0.6931472\n",
      "Epoch: 59 , Loss: 0.6931472\n",
      "Epoch: 60 , Loss: 0.6931472\n",
      "Epoch: 61 , Loss: 0.6931472\n",
      "Epoch: 62 , Loss: 0.6931472\n",
      "Epoch: 63 , Loss: 0.6931472\n",
      "Epoch: 64 , Loss: 0.6931472\n",
      "Epoch: 65 , Loss: 0.6931472\n",
      "Epoch: 66 , Loss: 0.6931472\n",
      "Epoch: 67 , Loss: 0.6931472\n",
      "Epoch: 68 , Loss: 0.6931472\n",
      "Epoch: 69 , Loss: 0.6931472\n",
      "Epoch: 70 , Loss: 0.6931472\n",
      "Epoch: 71 , Loss: 0.6931472\n",
      "Epoch: 72 , Loss: 0.6931472\n",
      "Epoch: 73 , Loss: 0.6931472\n",
      "Epoch: 74 , Loss: 0.6931472\n",
      "Epoch: 75 , Loss: 0.6931472\n",
      "Epoch: 76 , Loss: 0.6931472\n",
      "Epoch: 77 , Loss: 0.6931472\n",
      "Epoch: 78 , Loss: 0.6931472\n",
      "Epoch: 79 , Loss: 0.6931472\n",
      "Epoch: 80 , Loss: 0.6931472\n",
      "Epoch: 81 , Loss: 0.6931472\n",
      "Epoch: 82 , Loss: 0.6931472\n",
      "Epoch: 83 , Loss: 0.6931472\n",
      "Epoch: 84 , Loss: 0.6931472\n",
      "Epoch: 85 , Loss: 0.6931472\n",
      "Epoch: 86 , Loss: 0.6931472\n",
      "Epoch: 87 , Loss: 0.6931472\n",
      "Epoch: 88 , Loss: 0.6931472\n",
      "Epoch: 89 , Loss: 0.6931472\n",
      "Epoch: 90 , Loss: 0.6931472\n",
      "Epoch: 91 , Loss: 0.6931472\n",
      "Epoch: 92 , Loss: 0.6931472\n",
      "Epoch: 93 , Loss: 0.6931472\n",
      "Epoch: 94 , Loss: 0.6931472\n",
      "Epoch: 95 , Loss: 0.6931472\n",
      "Epoch: 96 , Loss: 0.6931472\n",
      "Epoch: 97 , Loss: 0.6931472\n",
      "Epoch: 98 , Loss: 0.6931472\n",
      "Epoch: 99 , Loss: 0.6931472\n"
     ]
    },
    {
     "data": {
      "text/plain": [
       "([(1, 0.6931472),\n",
       "  (2, 0.6931472),\n",
       "  (3, 0.6931472),\n",
       "  (4, 0.6931472),\n",
       "  (5, 0.6931472),\n",
       "  (6, 0.6931472),\n",
       "  (7, 0.6931472),\n",
       "  (8, 0.6931472),\n",
       "  (9, 0.6931472),\n",
       "  (10, 0.6931472),\n",
       "  (11, 0.6931472),\n",
       "  (12, 0.6931472),\n",
       "  (13, 0.6931472),\n",
       "  (14, 0.6931472),\n",
       "  (15, 0.6931472),\n",
       "  (16, 0.6931472),\n",
       "  (17, 0.6931472),\n",
       "  (18, 0.6931472),\n",
       "  (19, 0.6931472),\n",
       "  (20, 0.6931472),\n",
       "  (21, 0.6931472),\n",
       "  (22, 0.6931472),\n",
       "  (23, 0.6931472),\n",
       "  (24, 0.6931472),\n",
       "  (25, 0.6931472),\n",
       "  (26, 0.6931472),\n",
       "  (27, 0.6931472),\n",
       "  (28, 0.6931472),\n",
       "  (29, 0.6931472),\n",
       "  (30, 0.6931472),\n",
       "  (31, 0.6931472),\n",
       "  (32, 0.6931472),\n",
       "  (33, 0.6931472),\n",
       "  (34, 0.6931472),\n",
       "  (35, 0.6931472),\n",
       "  (36, 0.6931472),\n",
       "  (37, 0.6931472),\n",
       "  (38, 0.6931472),\n",
       "  (39, 0.6931472),\n",
       "  (40, 0.6931472),\n",
       "  (41, 0.6931472),\n",
       "  (42, 0.6931472),\n",
       "  (43, 0.6931472),\n",
       "  (44, 0.6931472),\n",
       "  (45, 0.6931472),\n",
       "  (46, 0.6931472),\n",
       "  (47, 0.6931472),\n",
       "  (48, 0.6931472),\n",
       "  (49, 0.6931472),\n",
       "  (50, 0.6931472),\n",
       "  (51, 0.6931472),\n",
       "  (52, 0.6931472),\n",
       "  (53, 0.6931472),\n",
       "  (54, 0.6931472),\n",
       "  (55, 0.6931472),\n",
       "  (56, 0.6931472),\n",
       "  (57, 0.6931472),\n",
       "  (58, 0.6931472),\n",
       "  (59, 0.6931472),\n",
       "  (60, 0.6931472),\n",
       "  (61, 0.6931472),\n",
       "  (62, 0.6931472),\n",
       "  (63, 0.6931472),\n",
       "  (64, 0.6931472),\n",
       "  (65, 0.6931472),\n",
       "  (66, 0.6931472),\n",
       "  (67, 0.6931472),\n",
       "  (68, 0.6931472),\n",
       "  (69, 0.6931472),\n",
       "  (70, 0.6931472),\n",
       "  (71, 0.6931472),\n",
       "  (72, 0.6931472),\n",
       "  (73, 0.6931472),\n",
       "  (74, 0.6931472),\n",
       "  (75, 0.6931472),\n",
       "  (76, 0.6931472),\n",
       "  (77, 0.6931472),\n",
       "  (78, 0.6931472),\n",
       "  (79, 0.6931472),\n",
       "  (80, 0.6931472),\n",
       "  (81, 0.6931472),\n",
       "  (82, 0.6931472),\n",
       "  (83, 0.6931472),\n",
       "  (84, 0.6931472),\n",
       "  (85, 0.6931472),\n",
       "  (86, 0.6931472),\n",
       "  (87, 0.6931472),\n",
       "  (88, 0.6931472),\n",
       "  (89, 0.6931472),\n",
       "  (90, 0.6931472),\n",
       "  (91, 0.6931472),\n",
       "  (92, 0.6931472),\n",
       "  (93, 0.6931472),\n",
       "  (94, 0.6931472),\n",
       "  (95, 0.6931472),\n",
       "  (96, 0.6931472),\n",
       "  (97, 0.6931472),\n",
       "  (98, 0.6931472),\n",
       "  (99, 0.6931472)],\n",
       " [])"
      ]
     },
     "execution_count": 6,
     "metadata": {},
     "output_type": "execute_result"
    }
   ],
   "source": [
    "siamese_net.train(100, data)"
   ]
  },
  {
   "cell_type": "code",
   "execution_count": 2,
   "metadata": {},
   "outputs": [],
   "source": [
    "# ************************************\n",
    "# ****** Test Resnet Similarity ******\n",
    "# ************************************"
   ]
  },
  {
   "cell_type": "code",
   "execution_count": null,
   "metadata": {},
   "outputs": [],
   "source": []
  }
 ],
 "metadata": {
  "kernelspec": {
   "display_name": "Python 3",
   "language": "python",
   "name": "python3"
  },
  "language_info": {
   "codemirror_mode": {
    "name": "ipython",
    "version": 3
   },
   "file_extension": ".py",
   "mimetype": "text/x-python",
   "name": "python",
   "nbconvert_exporter": "python",
   "pygments_lexer": "ipython3",
   "version": "3.5.6"
  }
 },
 "nbformat": 4,
 "nbformat_minor": 2
}

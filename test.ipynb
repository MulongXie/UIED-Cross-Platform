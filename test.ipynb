{
 "cells": [
  {
   "cell_type": "code",
   "execution_count": 1,
   "metadata": {},
   "outputs": [],
   "source": [
    "import cv2\n",
    "import numpy as np\n",
    "from skimage.measure import compare_ssim\n",
    "from match_elements.matching import image_similarity\n",
    "import matplotlib.pyplot as plt\n",
    "import detect_compo.lib_ip.ip_preprocessing as pre"
   ]
  },
  {
   "cell_type": "code",
   "execution_count": 2,
   "metadata": {},
   "outputs": [],
   "source": [
    "# ***********************************\n",
    "# ****** Test Image Similarity ******\n",
    "# ***********************************"
   ]
  },
  {
   "cell_type": "code",
   "execution_count": 3,
   "metadata": {},
   "outputs": [],
   "source": [
    "# img1 = cv2.imread('data/output/clip/android/a0c.jpg')\n",
    "# img2 = cv2.imread('data/output/clip/ios/i2c.jpg')\n",
    "\n",
    "img1 = cv2.imread('data/input/A0.jpg')\n",
    "img2 = cv2.imread('data/input/I0.png')"
   ]
  },
  {
   "cell_type": "code",
   "execution_count": 7,
   "metadata": {},
   "outputs": [
    {
     "data": {
      "text/plain": [
       "0.8125"
      ]
     },
     "execution_count": 7,
     "metadata": {},
     "output_type": "execute_result"
    }
   ],
   "source": [
    "image_similarity(img1, img2, method='dhash')"
   ]
  },
  {
   "cell_type": "code",
   "execution_count": 6,
   "metadata": {},
   "outputs": [
    {
     "data": {
      "text/plain": [
       "0.7454922569876243"
      ]
     },
     "execution_count": 6,
     "metadata": {},
     "output_type": "execute_result"
    }
   ],
   "source": [
    "image_similarity(img1, img2, method='ssim', is_gray=True)"
   ]
  },
  {
   "cell_type": "code",
   "execution_count": 5,
   "metadata": {},
   "outputs": [
    {
     "data": {
      "text/plain": [
       "0.5427540255413659"
      ]
     },
     "execution_count": 5,
     "metadata": {},
     "output_type": "execute_result"
    }
   ],
   "source": [
    "image_similarity(img1, img2, method='surf', draw_match=True, match_distance_ratio=1.3)"
   ]
  },
  {
   "cell_type": "code",
   "execution_count": 4,
   "metadata": {},
   "outputs": [
    {
     "data": {
      "text/plain": [
       "0.6490653305068413"
      ]
     },
     "execution_count": 4,
     "metadata": {},
     "output_type": "execute_result"
    }
   ],
   "source": [
    "image_similarity(img1, img2, method='sift', draw_match=True, match_distance_ratio=1.3)"
   ]
  },
  {
   "cell_type": "code",
   "execution_count": 10,
   "metadata": {},
   "outputs": [],
   "source": [
    "cv2.imshow('1', img1)\n",
    "cv2.imshow('2', img2)\n",
    "cv2.waitKey()\n",
    "cv2.destroyAllWindows()"
   ]
  },
  {
   "cell_type": "code",
   "execution_count": 1,
   "metadata": {},
   "outputs": [],
   "source": [
    "# ****************************************\n",
    "# ****** Test Adaptive Binarization ******\n",
    "# ****************************************"
   ]
  },
  {
   "cell_type": "code",
   "execution_count": 13,
   "metadata": {},
   "outputs": [],
   "source": [
    "img = cv2.imread('data/input/I203.png') \n",
    "img_gray=cv2.cvtColor(img,cv2.COLOR_BGR2GRAY)\n",
    "cv2.imshow('img',cv2.resize(img, (500,800)))\n",
    "cv2.imshow('gray',cv2.resize(img_gray, (500,800)))\n",
    "\n",
    "binary = pre.binarization(img, grad_min=4)\n",
    "cv2.imshow('bin', cv2.resize(binary, (500,800)))\n",
    "# thresh,img_bin = cv2.threshold(img_gray,10, 255, cv2.THRESH_BINARY|cv2.THRESH_OTSU)\n",
    "# cv2.imshow('threshold',cv2.resize(img_bin, (500,800)))\n",
    "# img_ret11 = cv2.adaptiveThreshold(img_gray,  255, cv2.ADAPTIVE_THRESH_MEAN_C,cv2.THRESH_BINARY,55,0 ) \n",
    "# cv2.imshow('adaptiveThreshold',cv2.resize(img_ret11, (500,800)))\n",
    "img_ret12 = cv2.adaptiveThreshold(img_gray,  255, cv2.ADAPTIVE_THRESH_GAUSSIAN_C,cv2.THRESH_BINARY,55,0 ) \n",
    "cv2.imshow('adaptive2', cv2.resize(img_ret12, (500,800)))\n",
    "\n",
    "\n",
    "cv2.waitKey()\n",
    "cv2.destroyAllWindows()"
   ]
  },
  {
   "cell_type": "code",
   "execution_count": 14,
   "metadata": {},
   "outputs": [],
   "source": [
    "# ************************************\n",
    "# ****** Test Modal Recognition ******\n",
    "# ************************************"
   ]
  },
  {
   "cell_type": "code",
   "execution_count": 11,
   "metadata": {},
   "outputs": [],
   "source": [
    "import requests\n",
    "import base64\n",
    "from os.path import join as pjoin\n",
    "import cv2\n",
    "import time\n",
    "import json"
   ]
  },
  {
   "cell_type": "code",
   "execution_count": 12,
   "metadata": {},
   "outputs": [],
   "source": [
    "def text_detection_longce(input_file='data/input/A0001.jpg', output_file='data/output'):\n",
    "    post_url = \"http://61.177.48.150:5222/ocr/recognition_text\"\n",
    "    name = input_file.replace('\\\\', '/').split('/')[-1][:-4]\n",
    "    ocr_root = pjoin(output_file, 'ocr')\n",
    "    img = cv2.imread(input_file)\n",
    "    start = time.clock()\n",
    "    retrys = 0\n",
    "\n",
    "    with open(input_file, \"rb\") as f:\n",
    "        base64_img = base64.b64encode(f.read()).decode('utf8')\n",
    "    form_data = json.dumps({\n",
    "        \"task\": \"OCR\",\n",
    "        \"image\": base64_img,\n",
    "        \"type\": \"base64\"\n",
    "    })\n",
    "    # print(input_file)\n",
    "    headers = {\n",
    "        \"Authorization\": None,\n",
    "        \"Content-Type\": \"application/json\"\n",
    "    }\n",
    "    res_text = list()\n",
    "    response = requests.post(url=post_url, headers=headers, data=form_data).text\n",
    "    res = json.loads(response)\n",
    "    for result in res['data']:\n",
    "        if 'words' not in result.keys():\n",
    "            continue\n",
    "        content = result['words']\n",
    "        location = result['location']\n",
    "        res_text.append(Text(id = result['index'], content = content, location = location))\n",
    "    board = visualize_texts(img, res_text, shown_resize_height=800, show=show, write_path=pjoin(ocr_root, name+'.png'))\n",
    "    save_detection_json(pjoin(ocr_root, name+'.json'), res_text, img.shape)\n",
    "    print(\"[Text Detection Completed in %.3f s] Input: %s Output: %s\" % (time.clock() - start, input_file, pjoin(ocr_root, name+'.json')))"
   ]
  },
  {
   "cell_type": "code",
   "execution_count": 13,
   "metadata": {},
   "outputs": [
    {
     "ename": "NameError",
     "evalue": "name 'Text' is not defined",
     "output_type": "error",
     "traceback": [
      "\u001b[1;31m---------------------------------------------------------------------------\u001b[0m",
      "\u001b[1;31mNameError\u001b[0m                                 Traceback (most recent call last)",
      "\u001b[1;32m<ipython-input-13-054e164b8168>\u001b[0m in \u001b[0;36m<module>\u001b[1;34m()\u001b[0m\n\u001b[1;32m----> 1\u001b[1;33m \u001b[0mtext_detection_longce\u001b[0m\u001b[1;33m(\u001b[0m\u001b[1;33m)\u001b[0m\u001b[1;33m\u001b[0m\u001b[0m\n\u001b[0m",
      "\u001b[1;32m<ipython-input-12-572ca256937e>\u001b[0m in \u001b[0;36mtext_detection_longce\u001b[1;34m(input_file, output_file)\u001b[0m\n\u001b[0;32m     27\u001b[0m         \u001b[0mcontent\u001b[0m \u001b[1;33m=\u001b[0m \u001b[0mresult\u001b[0m\u001b[1;33m[\u001b[0m\u001b[1;34m'words'\u001b[0m\u001b[1;33m]\u001b[0m\u001b[1;33m\u001b[0m\u001b[0m\n\u001b[0;32m     28\u001b[0m         \u001b[0mlocation\u001b[0m \u001b[1;33m=\u001b[0m \u001b[0mresult\u001b[0m\u001b[1;33m[\u001b[0m\u001b[1;34m'location'\u001b[0m\u001b[1;33m]\u001b[0m\u001b[1;33m\u001b[0m\u001b[0m\n\u001b[1;32m---> 29\u001b[1;33m         \u001b[0mres_text\u001b[0m\u001b[1;33m.\u001b[0m\u001b[0mappend\u001b[0m\u001b[1;33m(\u001b[0m\u001b[0mText\u001b[0m\u001b[1;33m(\u001b[0m\u001b[0mid\u001b[0m \u001b[1;33m=\u001b[0m \u001b[0mresult\u001b[0m\u001b[1;33m[\u001b[0m\u001b[1;34m'index'\u001b[0m\u001b[1;33m]\u001b[0m\u001b[1;33m,\u001b[0m \u001b[0mcontent\u001b[0m \u001b[1;33m=\u001b[0m \u001b[0mcontent\u001b[0m\u001b[1;33m,\u001b[0m \u001b[0mlocation\u001b[0m \u001b[1;33m=\u001b[0m \u001b[0mlocation\u001b[0m\u001b[1;33m)\u001b[0m\u001b[1;33m)\u001b[0m\u001b[1;33m\u001b[0m\u001b[0m\n\u001b[0m\u001b[0;32m     30\u001b[0m     \u001b[0mboard\u001b[0m \u001b[1;33m=\u001b[0m \u001b[0mvisualize_texts\u001b[0m\u001b[1;33m(\u001b[0m\u001b[0mimg\u001b[0m\u001b[1;33m,\u001b[0m \u001b[0mres_text\u001b[0m\u001b[1;33m,\u001b[0m \u001b[0mshown_resize_height\u001b[0m\u001b[1;33m=\u001b[0m\u001b[1;36m800\u001b[0m\u001b[1;33m,\u001b[0m \u001b[0mshow\u001b[0m\u001b[1;33m=\u001b[0m\u001b[0mshow\u001b[0m\u001b[1;33m,\u001b[0m \u001b[0mwrite_path\u001b[0m\u001b[1;33m=\u001b[0m\u001b[0mpjoin\u001b[0m\u001b[1;33m(\u001b[0m\u001b[0mocr_root\u001b[0m\u001b[1;33m,\u001b[0m \u001b[0mname\u001b[0m\u001b[1;33m+\u001b[0m\u001b[1;34m'.png'\u001b[0m\u001b[1;33m)\u001b[0m\u001b[1;33m)\u001b[0m\u001b[1;33m\u001b[0m\u001b[0m\n\u001b[0;32m     31\u001b[0m     \u001b[0msave_detection_json\u001b[0m\u001b[1;33m(\u001b[0m\u001b[0mpjoin\u001b[0m\u001b[1;33m(\u001b[0m\u001b[0mocr_root\u001b[0m\u001b[1;33m,\u001b[0m \u001b[0mname\u001b[0m\u001b[1;33m+\u001b[0m\u001b[1;34m'.json'\u001b[0m\u001b[1;33m)\u001b[0m\u001b[1;33m,\u001b[0m \u001b[0mres_text\u001b[0m\u001b[1;33m,\u001b[0m \u001b[0mimg\u001b[0m\u001b[1;33m.\u001b[0m\u001b[0mshape\u001b[0m\u001b[1;33m)\u001b[0m\u001b[1;33m\u001b[0m\u001b[0m\n",
      "\u001b[1;31mNameError\u001b[0m: name 'Text' is not defined"
     ]
    }
   ],
   "source": [
    "text_detection_longce()"
   ]
  },
  {
   "cell_type": "code",
   "execution_count": null,
   "metadata": {},
   "outputs": [],
   "source": []
  }
 ],
 "metadata": {
  "kernelspec": {
   "display_name": "Python 3",
   "language": "python",
   "name": "python3"
  },
  "language_info": {
   "codemirror_mode": {
    "name": "ipython",
    "version": 3
   },
   "file_extension": ".py",
   "mimetype": "text/x-python",
   "name": "python",
   "nbconvert_exporter": "python",
   "pygments_lexer": "ipython3",
   "version": "3.5.6"
  }
 },
 "nbformat": 4,
 "nbformat_minor": 2
}
